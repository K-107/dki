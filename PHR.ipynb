{
  "nbformat": 4,
  "nbformat_minor": 0,
  "metadata": {
    "colab": {
      "name": "PHR.ipynb",
      "provenance": [],
      "mount_file_id": "1DKSxO5bU8AWq3T28f4gXchw3NrYn-EGK",
      "authorship_tag": "ABX9TyP5gGoFDmisxYzEFYTPs/S+",
      "include_colab_link": true
    },
    "kernelspec": {
      "name": "python3",
      "display_name": "Python 3"
    },
    "language_info": {
      "name": "python"
    },
    "accelerator": "GPU"
  },
  "cells": [
    {
      "cell_type": "markdown",
      "metadata": {
        "id": "view-in-github",
        "colab_type": "text"
      },
      "source": [
        "<a href=\"https://colab.research.google.com/github/K-107/dki/blob/main/PHR.ipynb\" target=\"_parent\"><img src=\"https://colab.research.google.com/assets/colab-badge.svg\" alt=\"Open In Colab\"/></a>"
      ]
    },
    {
      "cell_type": "markdown",
      "metadata": {
        "id": "K3xDSPd6Ik55"
      },
      "source": [
        "HE_sbp: 수축기\n",
        "HE_dbp: 이완기\n",
        "HE_ht: 키\n",
        "HE_wt: 몸무게\n",
        "HE_glu: 공복혈당\n",
        "HE_HB: 혈색소\n",
        "\n",
        "age: 나이 Y"
      ]
    },
    {
      "cell_type": "code",
      "metadata": {
        "colab": {
          "base_uri": "https://localhost:8080/",
          "height": 472
        },
        "id": "WllJGFo-CUCQ",
        "outputId": "390d7af9-93fd-436b-ba2e-9a09b1ea41f8"
      },
      "source": [
        "import pandas as pd\n",
        "import numpy as np\n",
        "pd.set_option('max_columns', None)\n",
        "\n",
        "df = pd.read_csv('/content/drive/MyDrive/PHR/PHR_20082017_raw.csv')\n",
        "df = df[['age','HE_ht','HE_wt','HE_sbp','HE_dbp','HE_glu','HE_HB']].dropna().reset_index()\n",
        "df.drop('index',axis=1,inplace=True)\n",
        "df"
      ],
      "execution_count": 1,
      "outputs": [
        {
          "output_type": "stream",
          "name": "stderr",
          "text": [
            "/usr/local/lib/python3.7/dist-packages/IPython/core/interactiveshell.py:2718: DtypeWarning: Columns (155) have mixed types.Specify dtype option on import or set low_memory=False.\n",
            "  interactivity=interactivity, compiler=compiler, result=result)\n"
          ]
        },
        {
          "output_type": "execute_result",
          "data": {
            "text/html": [
              "<div>\n",
              "<style scoped>\n",
              "    .dataframe tbody tr th:only-of-type {\n",
              "        vertical-align: middle;\n",
              "    }\n",
              "\n",
              "    .dataframe tbody tr th {\n",
              "        vertical-align: top;\n",
              "    }\n",
              "\n",
              "    .dataframe thead th {\n",
              "        text-align: right;\n",
              "    }\n",
              "</style>\n",
              "<table border=\"1\" class=\"dataframe\">\n",
              "  <thead>\n",
              "    <tr style=\"text-align: right;\">\n",
              "      <th></th>\n",
              "      <th>age</th>\n",
              "      <th>HE_ht</th>\n",
              "      <th>HE_wt</th>\n",
              "      <th>HE_sbp</th>\n",
              "      <th>HE_dbp</th>\n",
              "      <th>HE_glu</th>\n",
              "      <th>HE_HB</th>\n",
              "    </tr>\n",
              "  </thead>\n",
              "  <tbody>\n",
              "    <tr>\n",
              "      <th>0</th>\n",
              "      <td>51.0</td>\n",
              "      <td>168.0</td>\n",
              "      <td>57.6</td>\n",
              "      <td>110.0</td>\n",
              "      <td>80.0</td>\n",
              "      <td>89.0</td>\n",
              "      <td>15.0</td>\n",
              "    </tr>\n",
              "    <tr>\n",
              "      <th>1</th>\n",
              "      <td>46.0</td>\n",
              "      <td>156.4</td>\n",
              "      <td>73.1</td>\n",
              "      <td>114.0</td>\n",
              "      <td>79.0</td>\n",
              "      <td>98.0</td>\n",
              "      <td>11.9</td>\n",
              "    </tr>\n",
              "    <tr>\n",
              "      <th>2</th>\n",
              "      <td>25.0</td>\n",
              "      <td>157.9</td>\n",
              "      <td>50.7</td>\n",
              "      <td>99.0</td>\n",
              "      <td>69.0</td>\n",
              "      <td>87.0</td>\n",
              "      <td>13.2</td>\n",
              "    </tr>\n",
              "    <tr>\n",
              "      <th>3</th>\n",
              "      <td>54.0</td>\n",
              "      <td>173.2</td>\n",
              "      <td>89.6</td>\n",
              "      <td>121.0</td>\n",
              "      <td>83.0</td>\n",
              "      <td>99.0</td>\n",
              "      <td>15.1</td>\n",
              "    </tr>\n",
              "    <tr>\n",
              "      <th>4</th>\n",
              "      <td>49.0</td>\n",
              "      <td>159.2</td>\n",
              "      <td>67.0</td>\n",
              "      <td>111.0</td>\n",
              "      <td>81.0</td>\n",
              "      <td>90.0</td>\n",
              "      <td>11.2</td>\n",
              "    </tr>\n",
              "    <tr>\n",
              "      <th>...</th>\n",
              "      <td>...</td>\n",
              "      <td>...</td>\n",
              "      <td>...</td>\n",
              "      <td>...</td>\n",
              "      <td>...</td>\n",
              "      <td>...</td>\n",
              "      <td>...</td>\n",
              "    </tr>\n",
              "    <tr>\n",
              "      <th>65583</th>\n",
              "      <td>46.0</td>\n",
              "      <td>146.9</td>\n",
              "      <td>69.0</td>\n",
              "      <td>131.0</td>\n",
              "      <td>84.0</td>\n",
              "      <td>92.0</td>\n",
              "      <td>13.7</td>\n",
              "    </tr>\n",
              "    <tr>\n",
              "      <th>65584</th>\n",
              "      <td>22.0</td>\n",
              "      <td>160.1</td>\n",
              "      <td>40.2</td>\n",
              "      <td>109.0</td>\n",
              "      <td>73.0</td>\n",
              "      <td>88.0</td>\n",
              "      <td>13.4</td>\n",
              "    </tr>\n",
              "    <tr>\n",
              "      <th>65585</th>\n",
              "      <td>18.0</td>\n",
              "      <td>175.2</td>\n",
              "      <td>85.4</td>\n",
              "      <td>111.0</td>\n",
              "      <td>59.0</td>\n",
              "      <td>99.0</td>\n",
              "      <td>16.9</td>\n",
              "    </tr>\n",
              "    <tr>\n",
              "      <th>65586</th>\n",
              "      <td>77.0</td>\n",
              "      <td>158.2</td>\n",
              "      <td>60.3</td>\n",
              "      <td>126.0</td>\n",
              "      <td>80.0</td>\n",
              "      <td>88.0</td>\n",
              "      <td>16.2</td>\n",
              "    </tr>\n",
              "    <tr>\n",
              "      <th>65587</th>\n",
              "      <td>75.0</td>\n",
              "      <td>154.4</td>\n",
              "      <td>64.9</td>\n",
              "      <td>134.0</td>\n",
              "      <td>75.0</td>\n",
              "      <td>97.0</td>\n",
              "      <td>12.9</td>\n",
              "    </tr>\n",
              "  </tbody>\n",
              "</table>\n",
              "<p>65588 rows × 7 columns</p>\n",
              "</div>"
            ],
            "text/plain": [
              "        age  HE_ht  HE_wt  HE_sbp  HE_dbp  HE_glu  HE_HB\n",
              "0      51.0  168.0   57.6   110.0    80.0    89.0   15.0\n",
              "1      46.0  156.4   73.1   114.0    79.0    98.0   11.9\n",
              "2      25.0  157.9   50.7    99.0    69.0    87.0   13.2\n",
              "3      54.0  173.2   89.6   121.0    83.0    99.0   15.1\n",
              "4      49.0  159.2   67.0   111.0    81.0    90.0   11.2\n",
              "...     ...    ...    ...     ...     ...     ...    ...\n",
              "65583  46.0  146.9   69.0   131.0    84.0    92.0   13.7\n",
              "65584  22.0  160.1   40.2   109.0    73.0    88.0   13.4\n",
              "65585  18.0  175.2   85.4   111.0    59.0    99.0   16.9\n",
              "65586  77.0  158.2   60.3   126.0    80.0    88.0   16.2\n",
              "65587  75.0  154.4   64.9   134.0    75.0    97.0   12.9\n",
              "\n",
              "[65588 rows x 7 columns]"
            ]
          },
          "metadata": {},
          "execution_count": 1
        }
      ]
    },
    {
      "cell_type": "markdown",
      "metadata": {
        "id": "dmARXFJQFNC-"
      },
      "source": [
        ""
      ]
    },
    {
      "cell_type": "code",
      "metadata": {
        "colab": {
          "base_uri": "https://localhost:8080/"
        },
        "id": "4YK4ylskIunA",
        "outputId": "8d707d34-df15-450d-89f8-d904461f8cf2"
      },
      "source": [
        "df.info()"
      ],
      "execution_count": 2,
      "outputs": [
        {
          "output_type": "stream",
          "name": "stdout",
          "text": [
            "<class 'pandas.core.frame.DataFrame'>\n",
            "RangeIndex: 65588 entries, 0 to 65587\n",
            "Data columns (total 7 columns):\n",
            " #   Column  Non-Null Count  Dtype  \n",
            "---  ------  --------------  -----  \n",
            " 0   age     65588 non-null  float64\n",
            " 1   HE_ht   65588 non-null  float64\n",
            " 2   HE_wt   65588 non-null  float64\n",
            " 3   HE_sbp  65588 non-null  float64\n",
            " 4   HE_dbp  65588 non-null  float64\n",
            " 5   HE_glu  65588 non-null  float64\n",
            " 6   HE_HB   65588 non-null  float64\n",
            "dtypes: float64(7)\n",
            "memory usage: 3.5 MB\n"
          ]
        }
      ]
    },
    {
      "cell_type": "code",
      "metadata": {
        "id": "x98PQf7WI9T0"
      },
      "source": [
        "age_100 = []\n",
        "for i in range(100):\n",
        "  age_100.append(i)"
      ],
      "execution_count": null,
      "outputs": []
    },
    {
      "cell_type": "code",
      "metadata": {
        "colab": {
          "base_uri": "https://localhost:8080/"
        },
        "id": "BaaGpiqGCT9f",
        "outputId": "f36ab181-3ca7-4207-8e51-badb81db54cb"
      },
      "source": [
        "set(age_100) - set(sorted(df.age.unique()))"
      ],
      "execution_count": 4,
      "outputs": [
        {
          "output_type": "execute_result",
          "data": {
            "text/plain": [
              "{0, 1, 2, 3, 4, 5, 6, 7, 8, 94, 96, 98, 99}"
            ]
          },
          "metadata": {},
          "execution_count": 4
        }
      ]
    },
    {
      "cell_type": "code",
      "metadata": {
        "colab": {
          "base_uri": "https://localhost:8080/",
          "height": 417
        },
        "id": "4sh7EZ2NCT7B",
        "outputId": "7a5ac990-8772-443f-971a-e7270bbc403a"
      },
      "source": [
        "df = df[(df.age>=9) & (df.age<=93)]\n",
        "df"
      ],
      "execution_count": 5,
      "outputs": [
        {
          "output_type": "execute_result",
          "data": {
            "text/html": [
              "<div>\n",
              "<style scoped>\n",
              "    .dataframe tbody tr th:only-of-type {\n",
              "        vertical-align: middle;\n",
              "    }\n",
              "\n",
              "    .dataframe tbody tr th {\n",
              "        vertical-align: top;\n",
              "    }\n",
              "\n",
              "    .dataframe thead th {\n",
              "        text-align: right;\n",
              "    }\n",
              "</style>\n",
              "<table border=\"1\" class=\"dataframe\">\n",
              "  <thead>\n",
              "    <tr style=\"text-align: right;\">\n",
              "      <th></th>\n",
              "      <th>age</th>\n",
              "      <th>HE_ht</th>\n",
              "      <th>HE_wt</th>\n",
              "      <th>HE_sbp</th>\n",
              "      <th>HE_dbp</th>\n",
              "      <th>HE_glu</th>\n",
              "      <th>HE_HB</th>\n",
              "    </tr>\n",
              "  </thead>\n",
              "  <tbody>\n",
              "    <tr>\n",
              "      <th>0</th>\n",
              "      <td>51.0</td>\n",
              "      <td>168.0</td>\n",
              "      <td>57.6</td>\n",
              "      <td>110.0</td>\n",
              "      <td>80.0</td>\n",
              "      <td>89.0</td>\n",
              "      <td>15.0</td>\n",
              "    </tr>\n",
              "    <tr>\n",
              "      <th>1</th>\n",
              "      <td>46.0</td>\n",
              "      <td>156.4</td>\n",
              "      <td>73.1</td>\n",
              "      <td>114.0</td>\n",
              "      <td>79.0</td>\n",
              "      <td>98.0</td>\n",
              "      <td>11.9</td>\n",
              "    </tr>\n",
              "    <tr>\n",
              "      <th>2</th>\n",
              "      <td>25.0</td>\n",
              "      <td>157.9</td>\n",
              "      <td>50.7</td>\n",
              "      <td>99.0</td>\n",
              "      <td>69.0</td>\n",
              "      <td>87.0</td>\n",
              "      <td>13.2</td>\n",
              "    </tr>\n",
              "    <tr>\n",
              "      <th>3</th>\n",
              "      <td>54.0</td>\n",
              "      <td>173.2</td>\n",
              "      <td>89.6</td>\n",
              "      <td>121.0</td>\n",
              "      <td>83.0</td>\n",
              "      <td>99.0</td>\n",
              "      <td>15.1</td>\n",
              "    </tr>\n",
              "    <tr>\n",
              "      <th>4</th>\n",
              "      <td>49.0</td>\n",
              "      <td>159.2</td>\n",
              "      <td>67.0</td>\n",
              "      <td>111.0</td>\n",
              "      <td>81.0</td>\n",
              "      <td>90.0</td>\n",
              "      <td>11.2</td>\n",
              "    </tr>\n",
              "    <tr>\n",
              "      <th>...</th>\n",
              "      <td>...</td>\n",
              "      <td>...</td>\n",
              "      <td>...</td>\n",
              "      <td>...</td>\n",
              "      <td>...</td>\n",
              "      <td>...</td>\n",
              "      <td>...</td>\n",
              "    </tr>\n",
              "    <tr>\n",
              "      <th>65583</th>\n",
              "      <td>46.0</td>\n",
              "      <td>146.9</td>\n",
              "      <td>69.0</td>\n",
              "      <td>131.0</td>\n",
              "      <td>84.0</td>\n",
              "      <td>92.0</td>\n",
              "      <td>13.7</td>\n",
              "    </tr>\n",
              "    <tr>\n",
              "      <th>65584</th>\n",
              "      <td>22.0</td>\n",
              "      <td>160.1</td>\n",
              "      <td>40.2</td>\n",
              "      <td>109.0</td>\n",
              "      <td>73.0</td>\n",
              "      <td>88.0</td>\n",
              "      <td>13.4</td>\n",
              "    </tr>\n",
              "    <tr>\n",
              "      <th>65585</th>\n",
              "      <td>18.0</td>\n",
              "      <td>175.2</td>\n",
              "      <td>85.4</td>\n",
              "      <td>111.0</td>\n",
              "      <td>59.0</td>\n",
              "      <td>99.0</td>\n",
              "      <td>16.9</td>\n",
              "    </tr>\n",
              "    <tr>\n",
              "      <th>65586</th>\n",
              "      <td>77.0</td>\n",
              "      <td>158.2</td>\n",
              "      <td>60.3</td>\n",
              "      <td>126.0</td>\n",
              "      <td>80.0</td>\n",
              "      <td>88.0</td>\n",
              "      <td>16.2</td>\n",
              "    </tr>\n",
              "    <tr>\n",
              "      <th>65587</th>\n",
              "      <td>75.0</td>\n",
              "      <td>154.4</td>\n",
              "      <td>64.9</td>\n",
              "      <td>134.0</td>\n",
              "      <td>75.0</td>\n",
              "      <td>97.0</td>\n",
              "      <td>12.9</td>\n",
              "    </tr>\n",
              "  </tbody>\n",
              "</table>\n",
              "<p>65586 rows × 7 columns</p>\n",
              "</div>"
            ],
            "text/plain": [
              "        age  HE_ht  HE_wt  HE_sbp  HE_dbp  HE_glu  HE_HB\n",
              "0      51.0  168.0   57.6   110.0    80.0    89.0   15.0\n",
              "1      46.0  156.4   73.1   114.0    79.0    98.0   11.9\n",
              "2      25.0  157.9   50.7    99.0    69.0    87.0   13.2\n",
              "3      54.0  173.2   89.6   121.0    83.0    99.0   15.1\n",
              "4      49.0  159.2   67.0   111.0    81.0    90.0   11.2\n",
              "...     ...    ...    ...     ...     ...     ...    ...\n",
              "65583  46.0  146.9   69.0   131.0    84.0    92.0   13.7\n",
              "65584  22.0  160.1   40.2   109.0    73.0    88.0   13.4\n",
              "65585  18.0  175.2   85.4   111.0    59.0    99.0   16.9\n",
              "65586  77.0  158.2   60.3   126.0    80.0    88.0   16.2\n",
              "65587  75.0  154.4   64.9   134.0    75.0    97.0   12.9\n",
              "\n",
              "[65586 rows x 7 columns]"
            ]
          },
          "metadata": {},
          "execution_count": 5
        }
      ]
    },
    {
      "cell_type": "code",
      "metadata": {
        "colab": {
          "base_uri": "https://localhost:8080/"
        },
        "id": "pU1-kqtsRyGo",
        "outputId": "a064b5f5-ecb8-4a53-ec6d-edf8abd752a8"
      },
      "source": [
        "from sklearn.preprocessing import MinMaxScaler\n",
        "\n",
        "scaler = MinMaxScaler()\n",
        "scaled = scaler.fit_transform(df.drop('age', axis=1))\n",
        "scaled"
      ],
      "execution_count": 6,
      "outputs": [
        {
          "output_type": "execute_result",
          "data": {
            "text/plain": [
              "array([[0.69084423, 0.27211394, 0.23121387, 0.52287582, 0.07679466,\n",
              "        0.67272727],\n",
              "       [0.5529132 , 0.38830585, 0.25433526, 0.51633987, 0.0918197 ,\n",
              "        0.48484848],\n",
              "       [0.57074911, 0.22038981, 0.16763006, 0.45098039, 0.07345576,\n",
              "        0.56363636],\n",
              "       ...,\n",
              "       [0.7764566 , 0.48050975, 0.23699422, 0.38562092, 0.09348915,\n",
              "        0.78787879],\n",
              "       [0.57431629, 0.29235382, 0.32369942, 0.52287582, 0.07512521,\n",
              "        0.74545455],\n",
              "       [0.52913199, 0.32683658, 0.3699422 , 0.49019608, 0.09015025,\n",
              "        0.54545455]])"
            ]
          },
          "metadata": {},
          "execution_count": 6
        }
      ]
    },
    {
      "cell_type": "code",
      "metadata": {
        "id": "3Wg6Z_VFLyIQ"
      },
      "source": [
        "from sklearn.model_selection import train_test_split\n",
        "\n",
        "X = scaled\n",
        "y = df.age\n",
        "\n",
        "x_train, x_test, y_train, y_test = train_test_split(X, y, test_size=0.2, random_state=42)"
      ],
      "execution_count": 7,
      "outputs": []
    },
    {
      "cell_type": "code",
      "metadata": {
        "colab": {
          "base_uri": "https://localhost:8080/"
        },
        "id": "cmhlD0O-XTG5",
        "outputId": "b7f27e97-de81-4543-fa4f-02901c5edad5"
      },
      "source": [
        "from lightgbm import LGBMRegressor\n",
        "from sklearn.metrics import mean_squared_error, mean_absolute_error, r2_score\n",
        "\n",
        "LGBM = LGBMRegressor(n_estimators=200).fit(x_train,y_train)\n",
        "pred = LGBM.predict(x_test)\n",
        "mse = mean_squared_error(y_test, pred)\n",
        "mae = mean_absolute_error(y_test, pred)\n",
        "r2 = r2_score(y_test, pred)\n",
        "print('MSE:  ', np.round(mse,3))\n",
        "print('MAE: ', np.round(mae,3))\n",
        "print('결정계수 R2: ', np.round(r2,3))"
      ],
      "execution_count": 27,
      "outputs": [
        {
          "output_type": "stream",
          "name": "stdout",
          "text": [
            "MSE:   185.387\n",
            "MAE:  10.338\n",
            "결정계수 R2:  0.509\n"
          ]
        }
      ]
    },
    {
      "cell_type": "code",
      "metadata": {
        "colab": {
          "base_uri": "https://localhost:8080/"
        },
        "id": "hMY2ORLWCT4c",
        "outputId": "babf9357-7582-475e-c53f-bbe68c792555"
      },
      "source": [
        "from tensorflow.keras import models\n",
        "from tensorflow.keras import layers\n",
        "import tensorflow as tf\n",
        "\n",
        "\n",
        "model = models.Sequential()\n",
        "model.add(layers.Dense(128, activation='relu', input_shape=(6,)))\n",
        "model.add(layers.Dense(64, activation='relu'))\n",
        "model.add(layers.Dense(32, activation='relu'))\n",
        "model.add(layers.Dense(1))\n",
        "\n",
        "model.compile(optimizer='adam',\n",
        "              loss='mse',\n",
        "              metrics=['mae'])\n",
        "\n",
        "model.fit(x_train,\n",
        "          y_train,\n",
        "          epochs=10,\n",
        "          batch_size=32,\n",
        "          )\n",
        "\n",
        "results = model.evaluate(x_test, y_test)"
      ],
      "execution_count": 16,
      "outputs": [
        {
          "output_type": "stream",
          "name": "stdout",
          "text": [
            "Epoch 1/10\n",
            "1640/1640 [==============================] - 7s 4ms/step - loss: 343.6585 - mae: 14.6380\n",
            "Epoch 2/10\n",
            "1640/1640 [==============================] - 6s 4ms/step - loss: 239.5452 - mae: 12.3947\n",
            "Epoch 3/10\n",
            "1640/1640 [==============================] - 6s 4ms/step - loss: 216.7582 - mae: 11.6124\n",
            "Epoch 4/10\n",
            "1640/1640 [==============================] - 6s 4ms/step - loss: 207.1397 - mae: 11.2302\n",
            "Epoch 5/10\n",
            "1640/1640 [==============================] - 6s 4ms/step - loss: 203.7162 - mae: 11.0980\n",
            "Epoch 6/10\n",
            "1640/1640 [==============================] - 6s 4ms/step - loss: 201.6098 - mae: 11.0124\n",
            "Epoch 7/10\n",
            "1640/1640 [==============================] - 6s 4ms/step - loss: 199.9581 - mae: 10.9461\n",
            "Epoch 8/10\n",
            "1640/1640 [==============================] - 6s 4ms/step - loss: 198.2655 - mae: 10.8687\n",
            "Epoch 9/10\n",
            "1640/1640 [==============================] - 6s 4ms/step - loss: 197.7678 - mae: 10.8447\n",
            "Epoch 10/10\n",
            "1640/1640 [==============================] - 6s 4ms/step - loss: 196.9007 - mae: 10.8111\n",
            "410/410 [==============================] - 1s 3ms/step - loss: 201.3208 - mae: 10.7907\n"
          ]
        }
      ]
    },
    {
      "cell_type": "code",
      "metadata": {
        "colab": {
          "base_uri": "https://localhost:8080/"
        },
        "id": "hZFXdBCeTmkA",
        "outputId": "569ffdb6-0b86-4f19-88a8-f11c7b922ed6"
      },
      "source": [
        "results"
      ],
      "execution_count": 17,
      "outputs": [
        {
          "output_type": "execute_result",
          "data": {
            "text/plain": [
              "[201.32083129882812, 10.790692329406738]"
            ]
          },
          "metadata": {},
          "execution_count": 17
        }
      ]
    },
    {
      "cell_type": "code",
      "metadata": {
        "colab": {
          "base_uri": "https://localhost:8080/"
        },
        "id": "qsJZgAIbP-Kz",
        "outputId": "d8f5820b-1a50-4e8d-824e-a3ba2e753eb5"
      },
      "source": [
        "y_test"
      ],
      "execution_count": 18,
      "outputs": [
        {
          "output_type": "execute_result",
          "data": {
            "text/plain": [
              "19851    40.0\n",
              "3787     57.0\n",
              "29774    24.0\n",
              "45880    20.0\n",
              "38451    64.0\n",
              "         ... \n",
              "43752    73.0\n",
              "58625    37.0\n",
              "8899     16.0\n",
              "55980    47.0\n",
              "17354    11.0\n",
              "Name: age, Length: 13118, dtype: float64"
            ]
          },
          "metadata": {},
          "execution_count": 18
        }
      ]
    },
    {
      "cell_type": "code",
      "metadata": {
        "colab": {
          "base_uri": "https://localhost:8080/"
        },
        "id": "pAtBZ8qOImi4",
        "outputId": "cb688392-1bb4-45b1-ab1a-dfdd4b1fc4fa"
      },
      "source": [
        "model.predict(x_test).reshape(-1)"
      ],
      "execution_count": 19,
      "outputs": [
        {
          "output_type": "execute_result",
          "data": {
            "text/plain": [
              "array([46.258163, 40.44744 , 25.195845, ..., 29.69265 , 43.29418 ,\n",
              "       61.782883], dtype=float32)"
            ]
          },
          "metadata": {},
          "execution_count": 19
        }
      ]
    },
    {
      "cell_type": "code",
      "metadata": {
        "colab": {
          "base_uri": "https://localhost:8080/"
        },
        "id": "j39g5vZFX7Ko",
        "outputId": "c8ad5c6f-9211-4199-b566-ff17327031f9"
      },
      "source": [
        "scaler.transform(t2)"
      ],
      "execution_count": 31,
      "outputs": [
        {
          "output_type": "execute_result",
          "data": {
            "text/plain": [
              "array([[0.58858502, 0.36731634, 0.22543353, 0.50980392, 0.08347245,\n",
              "        0.55757576],\n",
              "       [0.46373365, 0.20689655, 0.1734104 , 0.47712418, 0.08180301,\n",
              "        0.64242424],\n",
              "       [0.81093936, 0.33958021, 0.24855491, 0.45751634, 0.06176962,\n",
              "        0.63636364],\n",
              "       ...,\n",
              "       [0.84185493, 0.33733133, 0.26011561, 0.49019608, 0.0851419 ,\n",
              "        0.70909091],\n",
              "       [0.59690844, 0.26236882, 0.21965318, 0.45751634, 0.09015025,\n",
              "        0.54545455],\n",
              "       [0.4351962 , 0.25637181, 0.23699422, 0.45751634, 0.09682805,\n",
              "        0.55757576]])"
            ]
          },
          "metadata": {},
          "execution_count": 31
        }
      ]
    },
    {
      "cell_type": "code",
      "metadata": {
        "colab": {
          "base_uri": "https://localhost:8080/"
        },
        "id": "4w9zWWObXjKe",
        "outputId": "86c99949-9829-46e8-c8a0-0a6144137e6d"
      },
      "source": [
        "params = [[180.6, 72.8, 118, 79, 92, 14.5]]\n",
        "params = scaler.transform(params)\n",
        "model.predict(params)"
      ],
      "execution_count": 32,
      "outputs": [
        {
          "output_type": "execute_result",
          "data": {
            "text/plain": [
              "array([[33.535954]], dtype=float32)"
            ]
          },
          "metadata": {},
          "execution_count": 32
        }
      ]
    },
    {
      "cell_type": "code",
      "metadata": {
        "colab": {
          "base_uri": "https://localhost:8080/",
          "height": 417
        },
        "id": "qMGV0ZL7Wf7m",
        "outputId": "98675a59-e6aa-4cf1-d248-39a8e2f21be8"
      },
      "source": [
        "df_test = pd.DataFrame(data=y_test)\n",
        "df_test['pred_age'] = model.predict(x_test).reshape(-1)\n",
        "df_test"
      ],
      "execution_count": 25,
      "outputs": [
        {
          "output_type": "execute_result",
          "data": {
            "text/html": [
              "<div>\n",
              "<style scoped>\n",
              "    .dataframe tbody tr th:only-of-type {\n",
              "        vertical-align: middle;\n",
              "    }\n",
              "\n",
              "    .dataframe tbody tr th {\n",
              "        vertical-align: top;\n",
              "    }\n",
              "\n",
              "    .dataframe thead th {\n",
              "        text-align: right;\n",
              "    }\n",
              "</style>\n",
              "<table border=\"1\" class=\"dataframe\">\n",
              "  <thead>\n",
              "    <tr style=\"text-align: right;\">\n",
              "      <th></th>\n",
              "      <th>age</th>\n",
              "      <th>pred_age</th>\n",
              "    </tr>\n",
              "  </thead>\n",
              "  <tbody>\n",
              "    <tr>\n",
              "      <th>19851</th>\n",
              "      <td>40.0</td>\n",
              "      <td>46.258163</td>\n",
              "    </tr>\n",
              "    <tr>\n",
              "      <th>3787</th>\n",
              "      <td>57.0</td>\n",
              "      <td>40.447441</td>\n",
              "    </tr>\n",
              "    <tr>\n",
              "      <th>29774</th>\n",
              "      <td>24.0</td>\n",
              "      <td>25.195845</td>\n",
              "    </tr>\n",
              "    <tr>\n",
              "      <th>45880</th>\n",
              "      <td>20.0</td>\n",
              "      <td>35.796192</td>\n",
              "    </tr>\n",
              "    <tr>\n",
              "      <th>38451</th>\n",
              "      <td>64.0</td>\n",
              "      <td>38.238758</td>\n",
              "    </tr>\n",
              "    <tr>\n",
              "      <th>...</th>\n",
              "      <td>...</td>\n",
              "      <td>...</td>\n",
              "    </tr>\n",
              "    <tr>\n",
              "      <th>43752</th>\n",
              "      <td>73.0</td>\n",
              "      <td>49.299782</td>\n",
              "    </tr>\n",
              "    <tr>\n",
              "      <th>58625</th>\n",
              "      <td>37.0</td>\n",
              "      <td>44.352314</td>\n",
              "    </tr>\n",
              "    <tr>\n",
              "      <th>8899</th>\n",
              "      <td>16.0</td>\n",
              "      <td>29.692650</td>\n",
              "    </tr>\n",
              "    <tr>\n",
              "      <th>55980</th>\n",
              "      <td>47.0</td>\n",
              "      <td>43.294182</td>\n",
              "    </tr>\n",
              "    <tr>\n",
              "      <th>17354</th>\n",
              "      <td>11.0</td>\n",
              "      <td>61.782883</td>\n",
              "    </tr>\n",
              "  </tbody>\n",
              "</table>\n",
              "<p>13118 rows × 2 columns</p>\n",
              "</div>"
            ],
            "text/plain": [
              "        age   pred_age\n",
              "19851  40.0  46.258163\n",
              "3787   57.0  40.447441\n",
              "29774  24.0  25.195845\n",
              "45880  20.0  35.796192\n",
              "38451  64.0  38.238758\n",
              "...     ...        ...\n",
              "43752  73.0  49.299782\n",
              "58625  37.0  44.352314\n",
              "8899   16.0  29.692650\n",
              "55980  47.0  43.294182\n",
              "17354  11.0  61.782883\n",
              "\n",
              "[13118 rows x 2 columns]"
            ]
          },
          "metadata": {},
          "execution_count": 25
        }
      ]
    },
    {
      "cell_type": "code",
      "metadata": {
        "colab": {
          "base_uri": "https://localhost:8080/"
        },
        "id": "XPtJ-5E2Wf5I",
        "outputId": "838ee4b1-8e77-499e-d770-156993d37e99"
      },
      "source": [
        "model.save('/content/drive/MyDrive/PHR/PHR.pb', save_format='tf')"
      ],
      "execution_count": 33,
      "outputs": [
        {
          "output_type": "stream",
          "name": "stdout",
          "text": [
            "INFO:tensorflow:Assets written to: /content/drive/MyDrive/PHR/PHR.pb/assets\n"
          ]
        }
      ]
    }
  ]
}