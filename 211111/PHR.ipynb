{
  "nbformat": 4,
  "nbformat_minor": 0,
  "metadata": {
    "colab": {
      "name": "PHR.ipynb",
      "provenance": [],
      "mount_file_id": "https://github.com/K-107/dki/blob/main/211111/PHR.ipynb",
      "authorship_tag": "ABX9TyOR02fowT6GvZxXMpMH97Q3",
      "include_colab_link": true
    },
    "kernelspec": {
      "name": "python3",
      "display_name": "Python 3"
    },
    "language_info": {
      "name": "python"
    },
    "accelerator": "GPU"
  },
  "cells": [
    {
      "cell_type": "markdown",
      "metadata": {
        "id": "view-in-github",
        "colab_type": "text"
      },
      "source": [
        "<a href=\"https://colab.research.google.com/github/K-107/dki/blob/main/211111/PHR.ipynb\" target=\"_parent\"><img src=\"https://colab.research.google.com/assets/colab-badge.svg\" alt=\"Open In Colab\"/></a>"
      ]
    },
    {
      "cell_type": "markdown",
      "metadata": {
        "id": "K3xDSPd6Ik55"
      },
      "source": [
        "HE_ht: 키\n",
        "HE_wt: 몸무게\n",
        "HE_sbp: 수축기\n",
        "HE_dbp: 이완기\n",
        "HE_glu: 공복혈당\n",
        "HE_HB: 혈색소\n",
        "\n",
        "age: 나이 Y"
      ]
    },
    {
      "cell_type": "code",
      "metadata": {
        "colab": {
          "base_uri": "https://localhost:8080/",
          "height": 472
        },
        "id": "WllJGFo-CUCQ",
        "outputId": "8b82c461-3a01-49ec-a7c3-7c6548dcabd2"
      },
      "source": [
        "import pandas as pd\n",
        "import numpy as np\n",
        "pd.set_option('max_columns', None)\n",
        "\n",
        "df = pd.read_csv('/content/drive/MyDrive/PHR/PHR_20082017_raw.csv')\n",
        "df = df[['age','HE_ht','HE_wt','HE_sbp','HE_dbp','HE_glu','HE_HB']].dropna().reset_index()\n",
        "df.drop('index',axis=1,inplace=True)\n",
        "df"
      ],
      "execution_count": 2,
      "outputs": [
        {
          "output_type": "stream",
          "name": "stderr",
          "text": [
            "/usr/local/lib/python3.7/dist-packages/IPython/core/interactiveshell.py:2718: DtypeWarning: Columns (155) have mixed types.Specify dtype option on import or set low_memory=False.\n",
            "  interactivity=interactivity, compiler=compiler, result=result)\n"
          ]
        },
        {
          "output_type": "execute_result",
          "data": {
            "text/html": [
              "<div>\n",
              "<style scoped>\n",
              "    .dataframe tbody tr th:only-of-type {\n",
              "        vertical-align: middle;\n",
              "    }\n",
              "\n",
              "    .dataframe tbody tr th {\n",
              "        vertical-align: top;\n",
              "    }\n",
              "\n",
              "    .dataframe thead th {\n",
              "        text-align: right;\n",
              "    }\n",
              "</style>\n",
              "<table border=\"1\" class=\"dataframe\">\n",
              "  <thead>\n",
              "    <tr style=\"text-align: right;\">\n",
              "      <th></th>\n",
              "      <th>age</th>\n",
              "      <th>HE_ht</th>\n",
              "      <th>HE_wt</th>\n",
              "      <th>HE_sbp</th>\n",
              "      <th>HE_dbp</th>\n",
              "      <th>HE_glu</th>\n",
              "      <th>HE_HB</th>\n",
              "    </tr>\n",
              "  </thead>\n",
              "  <tbody>\n",
              "    <tr>\n",
              "      <th>0</th>\n",
              "      <td>51.0</td>\n",
              "      <td>168.0</td>\n",
              "      <td>57.6</td>\n",
              "      <td>110.0</td>\n",
              "      <td>80.0</td>\n",
              "      <td>89.0</td>\n",
              "      <td>15.0</td>\n",
              "    </tr>\n",
              "    <tr>\n",
              "      <th>1</th>\n",
              "      <td>46.0</td>\n",
              "      <td>156.4</td>\n",
              "      <td>73.1</td>\n",
              "      <td>114.0</td>\n",
              "      <td>79.0</td>\n",
              "      <td>98.0</td>\n",
              "      <td>11.9</td>\n",
              "    </tr>\n",
              "    <tr>\n",
              "      <th>2</th>\n",
              "      <td>25.0</td>\n",
              "      <td>157.9</td>\n",
              "      <td>50.7</td>\n",
              "      <td>99.0</td>\n",
              "      <td>69.0</td>\n",
              "      <td>87.0</td>\n",
              "      <td>13.2</td>\n",
              "    </tr>\n",
              "    <tr>\n",
              "      <th>3</th>\n",
              "      <td>54.0</td>\n",
              "      <td>173.2</td>\n",
              "      <td>89.6</td>\n",
              "      <td>121.0</td>\n",
              "      <td>83.0</td>\n",
              "      <td>99.0</td>\n",
              "      <td>15.1</td>\n",
              "    </tr>\n",
              "    <tr>\n",
              "      <th>4</th>\n",
              "      <td>49.0</td>\n",
              "      <td>159.2</td>\n",
              "      <td>67.0</td>\n",
              "      <td>111.0</td>\n",
              "      <td>81.0</td>\n",
              "      <td>90.0</td>\n",
              "      <td>11.2</td>\n",
              "    </tr>\n",
              "    <tr>\n",
              "      <th>...</th>\n",
              "      <td>...</td>\n",
              "      <td>...</td>\n",
              "      <td>...</td>\n",
              "      <td>...</td>\n",
              "      <td>...</td>\n",
              "      <td>...</td>\n",
              "      <td>...</td>\n",
              "    </tr>\n",
              "    <tr>\n",
              "      <th>65583</th>\n",
              "      <td>46.0</td>\n",
              "      <td>146.9</td>\n",
              "      <td>69.0</td>\n",
              "      <td>131.0</td>\n",
              "      <td>84.0</td>\n",
              "      <td>92.0</td>\n",
              "      <td>13.7</td>\n",
              "    </tr>\n",
              "    <tr>\n",
              "      <th>65584</th>\n",
              "      <td>22.0</td>\n",
              "      <td>160.1</td>\n",
              "      <td>40.2</td>\n",
              "      <td>109.0</td>\n",
              "      <td>73.0</td>\n",
              "      <td>88.0</td>\n",
              "      <td>13.4</td>\n",
              "    </tr>\n",
              "    <tr>\n",
              "      <th>65585</th>\n",
              "      <td>18.0</td>\n",
              "      <td>175.2</td>\n",
              "      <td>85.4</td>\n",
              "      <td>111.0</td>\n",
              "      <td>59.0</td>\n",
              "      <td>99.0</td>\n",
              "      <td>16.9</td>\n",
              "    </tr>\n",
              "    <tr>\n",
              "      <th>65586</th>\n",
              "      <td>77.0</td>\n",
              "      <td>158.2</td>\n",
              "      <td>60.3</td>\n",
              "      <td>126.0</td>\n",
              "      <td>80.0</td>\n",
              "      <td>88.0</td>\n",
              "      <td>16.2</td>\n",
              "    </tr>\n",
              "    <tr>\n",
              "      <th>65587</th>\n",
              "      <td>75.0</td>\n",
              "      <td>154.4</td>\n",
              "      <td>64.9</td>\n",
              "      <td>134.0</td>\n",
              "      <td>75.0</td>\n",
              "      <td>97.0</td>\n",
              "      <td>12.9</td>\n",
              "    </tr>\n",
              "  </tbody>\n",
              "</table>\n",
              "<p>65588 rows × 7 columns</p>\n",
              "</div>"
            ],
            "text/plain": [
              "        age  HE_ht  HE_wt  HE_sbp  HE_dbp  HE_glu  HE_HB\n",
              "0      51.0  168.0   57.6   110.0    80.0    89.0   15.0\n",
              "1      46.0  156.4   73.1   114.0    79.0    98.0   11.9\n",
              "2      25.0  157.9   50.7    99.0    69.0    87.0   13.2\n",
              "3      54.0  173.2   89.6   121.0    83.0    99.0   15.1\n",
              "4      49.0  159.2   67.0   111.0    81.0    90.0   11.2\n",
              "...     ...    ...    ...     ...     ...     ...    ...\n",
              "65583  46.0  146.9   69.0   131.0    84.0    92.0   13.7\n",
              "65584  22.0  160.1   40.2   109.0    73.0    88.0   13.4\n",
              "65585  18.0  175.2   85.4   111.0    59.0    99.0   16.9\n",
              "65586  77.0  158.2   60.3   126.0    80.0    88.0   16.2\n",
              "65587  75.0  154.4   64.9   134.0    75.0    97.0   12.9\n",
              "\n",
              "[65588 rows x 7 columns]"
            ]
          },
          "metadata": {},
          "execution_count": 2
        }
      ]
    },
    {
      "cell_type": "markdown",
      "metadata": {
        "id": "dmARXFJQFNC-"
      },
      "source": [
        ""
      ]
    },
    {
      "cell_type": "code",
      "metadata": {
        "colab": {
          "base_uri": "https://localhost:8080/"
        },
        "id": "4YK4ylskIunA",
        "outputId": "ca111411-77ec-4046-80c4-05786a2ee69a"
      },
      "source": [
        "df.info()"
      ],
      "execution_count": 3,
      "outputs": [
        {
          "output_type": "stream",
          "name": "stdout",
          "text": [
            "<class 'pandas.core.frame.DataFrame'>\n",
            "RangeIndex: 65588 entries, 0 to 65587\n",
            "Data columns (total 7 columns):\n",
            " #   Column  Non-Null Count  Dtype  \n",
            "---  ------  --------------  -----  \n",
            " 0   age     65588 non-null  float64\n",
            " 1   HE_ht   65588 non-null  float64\n",
            " 2   HE_wt   65588 non-null  float64\n",
            " 3   HE_sbp  65588 non-null  float64\n",
            " 4   HE_dbp  65588 non-null  float64\n",
            " 5   HE_glu  65588 non-null  float64\n",
            " 6   HE_HB   65588 non-null  float64\n",
            "dtypes: float64(7)\n",
            "memory usage: 3.5 MB\n"
          ]
        }
      ]
    },
    {
      "cell_type": "code",
      "metadata": {
        "id": "x98PQf7WI9T0"
      },
      "source": [
        "age_100 = []\n",
        "for i in range(100):\n",
        "  age_100.append(i)"
      ],
      "execution_count": 4,
      "outputs": []
    },
    {
      "cell_type": "code",
      "metadata": {
        "colab": {
          "base_uri": "https://localhost:8080/"
        },
        "id": "BaaGpiqGCT9f",
        "outputId": "4369d6e6-9dfb-4c99-9a80-645f266b8e6d"
      },
      "source": [
        "set(age_100) - set(sorted(df.age.unique()))"
      ],
      "execution_count": 5,
      "outputs": [
        {
          "output_type": "execute_result",
          "data": {
            "text/plain": [
              "{0, 1, 2, 3, 4, 5, 6, 7, 8, 94, 96, 98, 99}"
            ]
          },
          "metadata": {},
          "execution_count": 5
        }
      ]
    },
    {
      "cell_type": "code",
      "metadata": {
        "colab": {
          "base_uri": "https://localhost:8080/",
          "height": 417
        },
        "id": "4sh7EZ2NCT7B",
        "outputId": "9035ee15-0347-45d1-dc05-a4691a71cbdb"
      },
      "source": [
        "df = df[(df.age>=9) & (df.age<=93)]\n",
        "df"
      ],
      "execution_count": 6,
      "outputs": [
        {
          "output_type": "execute_result",
          "data": {
            "text/html": [
              "<div>\n",
              "<style scoped>\n",
              "    .dataframe tbody tr th:only-of-type {\n",
              "        vertical-align: middle;\n",
              "    }\n",
              "\n",
              "    .dataframe tbody tr th {\n",
              "        vertical-align: top;\n",
              "    }\n",
              "\n",
              "    .dataframe thead th {\n",
              "        text-align: right;\n",
              "    }\n",
              "</style>\n",
              "<table border=\"1\" class=\"dataframe\">\n",
              "  <thead>\n",
              "    <tr style=\"text-align: right;\">\n",
              "      <th></th>\n",
              "      <th>age</th>\n",
              "      <th>HE_ht</th>\n",
              "      <th>HE_wt</th>\n",
              "      <th>HE_sbp</th>\n",
              "      <th>HE_dbp</th>\n",
              "      <th>HE_glu</th>\n",
              "      <th>HE_HB</th>\n",
              "    </tr>\n",
              "  </thead>\n",
              "  <tbody>\n",
              "    <tr>\n",
              "      <th>0</th>\n",
              "      <td>51.0</td>\n",
              "      <td>168.0</td>\n",
              "      <td>57.6</td>\n",
              "      <td>110.0</td>\n",
              "      <td>80.0</td>\n",
              "      <td>89.0</td>\n",
              "      <td>15.0</td>\n",
              "    </tr>\n",
              "    <tr>\n",
              "      <th>1</th>\n",
              "      <td>46.0</td>\n",
              "      <td>156.4</td>\n",
              "      <td>73.1</td>\n",
              "      <td>114.0</td>\n",
              "      <td>79.0</td>\n",
              "      <td>98.0</td>\n",
              "      <td>11.9</td>\n",
              "    </tr>\n",
              "    <tr>\n",
              "      <th>2</th>\n",
              "      <td>25.0</td>\n",
              "      <td>157.9</td>\n",
              "      <td>50.7</td>\n",
              "      <td>99.0</td>\n",
              "      <td>69.0</td>\n",
              "      <td>87.0</td>\n",
              "      <td>13.2</td>\n",
              "    </tr>\n",
              "    <tr>\n",
              "      <th>3</th>\n",
              "      <td>54.0</td>\n",
              "      <td>173.2</td>\n",
              "      <td>89.6</td>\n",
              "      <td>121.0</td>\n",
              "      <td>83.0</td>\n",
              "      <td>99.0</td>\n",
              "      <td>15.1</td>\n",
              "    </tr>\n",
              "    <tr>\n",
              "      <th>4</th>\n",
              "      <td>49.0</td>\n",
              "      <td>159.2</td>\n",
              "      <td>67.0</td>\n",
              "      <td>111.0</td>\n",
              "      <td>81.0</td>\n",
              "      <td>90.0</td>\n",
              "      <td>11.2</td>\n",
              "    </tr>\n",
              "    <tr>\n",
              "      <th>...</th>\n",
              "      <td>...</td>\n",
              "      <td>...</td>\n",
              "      <td>...</td>\n",
              "      <td>...</td>\n",
              "      <td>...</td>\n",
              "      <td>...</td>\n",
              "      <td>...</td>\n",
              "    </tr>\n",
              "    <tr>\n",
              "      <th>65583</th>\n",
              "      <td>46.0</td>\n",
              "      <td>146.9</td>\n",
              "      <td>69.0</td>\n",
              "      <td>131.0</td>\n",
              "      <td>84.0</td>\n",
              "      <td>92.0</td>\n",
              "      <td>13.7</td>\n",
              "    </tr>\n",
              "    <tr>\n",
              "      <th>65584</th>\n",
              "      <td>22.0</td>\n",
              "      <td>160.1</td>\n",
              "      <td>40.2</td>\n",
              "      <td>109.0</td>\n",
              "      <td>73.0</td>\n",
              "      <td>88.0</td>\n",
              "      <td>13.4</td>\n",
              "    </tr>\n",
              "    <tr>\n",
              "      <th>65585</th>\n",
              "      <td>18.0</td>\n",
              "      <td>175.2</td>\n",
              "      <td>85.4</td>\n",
              "      <td>111.0</td>\n",
              "      <td>59.0</td>\n",
              "      <td>99.0</td>\n",
              "      <td>16.9</td>\n",
              "    </tr>\n",
              "    <tr>\n",
              "      <th>65586</th>\n",
              "      <td>77.0</td>\n",
              "      <td>158.2</td>\n",
              "      <td>60.3</td>\n",
              "      <td>126.0</td>\n",
              "      <td>80.0</td>\n",
              "      <td>88.0</td>\n",
              "      <td>16.2</td>\n",
              "    </tr>\n",
              "    <tr>\n",
              "      <th>65587</th>\n",
              "      <td>75.0</td>\n",
              "      <td>154.4</td>\n",
              "      <td>64.9</td>\n",
              "      <td>134.0</td>\n",
              "      <td>75.0</td>\n",
              "      <td>97.0</td>\n",
              "      <td>12.9</td>\n",
              "    </tr>\n",
              "  </tbody>\n",
              "</table>\n",
              "<p>65586 rows × 7 columns</p>\n",
              "</div>"
            ],
            "text/plain": [
              "        age  HE_ht  HE_wt  HE_sbp  HE_dbp  HE_glu  HE_HB\n",
              "0      51.0  168.0   57.6   110.0    80.0    89.0   15.0\n",
              "1      46.0  156.4   73.1   114.0    79.0    98.0   11.9\n",
              "2      25.0  157.9   50.7    99.0    69.0    87.0   13.2\n",
              "3      54.0  173.2   89.6   121.0    83.0    99.0   15.1\n",
              "4      49.0  159.2   67.0   111.0    81.0    90.0   11.2\n",
              "...     ...    ...    ...     ...     ...     ...    ...\n",
              "65583  46.0  146.9   69.0   131.0    84.0    92.0   13.7\n",
              "65584  22.0  160.1   40.2   109.0    73.0    88.0   13.4\n",
              "65585  18.0  175.2   85.4   111.0    59.0    99.0   16.9\n",
              "65586  77.0  158.2   60.3   126.0    80.0    88.0   16.2\n",
              "65587  75.0  154.4   64.9   134.0    75.0    97.0   12.9\n",
              "\n",
              "[65586 rows x 7 columns]"
            ]
          },
          "metadata": {},
          "execution_count": 6
        }
      ]
    },
    {
      "cell_type": "code",
      "metadata": {
        "colab": {
          "base_uri": "https://localhost:8080/"
        },
        "id": "pU1-kqtsRyGo",
        "outputId": "133284f2-c5b2-4406-a2bb-f4af6c9f831f"
      },
      "source": [
        "from sklearn.preprocessing import MinMaxScaler\n",
        "\n",
        "scaler = MinMaxScaler()\n",
        "scaled = scaler.fit_transform(df.drop('age', axis=1))\n",
        "scaled"
      ],
      "execution_count": 7,
      "outputs": [
        {
          "output_type": "execute_result",
          "data": {
            "text/plain": [
              "array([[0.69084423, 0.27211394, 0.23121387, 0.52287582, 0.07679466,\n",
              "        0.67272727],\n",
              "       [0.5529132 , 0.38830585, 0.25433526, 0.51633987, 0.0918197 ,\n",
              "        0.48484848],\n",
              "       [0.57074911, 0.22038981, 0.16763006, 0.45098039, 0.07345576,\n",
              "        0.56363636],\n",
              "       ...,\n",
              "       [0.7764566 , 0.48050975, 0.23699422, 0.38562092, 0.09348915,\n",
              "        0.78787879],\n",
              "       [0.57431629, 0.29235382, 0.32369942, 0.52287582, 0.07512521,\n",
              "        0.74545455],\n",
              "       [0.52913199, 0.32683658, 0.3699422 , 0.49019608, 0.09015025,\n",
              "        0.54545455]])"
            ]
          },
          "metadata": {},
          "execution_count": 7
        }
      ]
    },
    {
      "cell_type": "code",
      "metadata": {
        "id": "oeKpUNt1fqW1",
        "outputId": "07af1bf3-e34c-43bb-87dc-7b2e7c50785a",
        "colab": {
          "base_uri": "https://localhost:8080/"
        }
      },
      "source": [
        "df.HE_glu.min()"
      ],
      "execution_count": 30,
      "outputs": [
        {
          "output_type": "execute_result",
          "data": {
            "text/plain": [
              "43.0"
            ]
          },
          "metadata": {},
          "execution_count": 30
        }
      ]
    },
    {
      "cell_type": "code",
      "metadata": {
        "id": "ohVCvYTLdUr9",
        "outputId": "66d4c052-bea2-42aa-8eec-eb942ce8dcbc",
        "colab": {
          "base_uri": "https://localhost:8080/"
        }
      },
      "source": [
        "print(scaler.n_samples_seen_, scaler.data_min_, scaler.data_max_, scaler.feature_range)"
      ],
      "execution_count": 8,
      "outputs": [
        {
          "output_type": "stream",
          "name": "stdout",
          "text": [
            "65586 [109.9  21.3  70.    0.   43.    3.9] [194.  154.7 243.  153.  642.   20.4] (0, 1)\n"
          ]
        }
      ]
    },
    {
      "cell_type": "code",
      "metadata": {
        "id": "3Wg6Z_VFLyIQ"
      },
      "source": [
        "from sklearn.model_selection import train_test_split\n",
        "\n",
        "X = scaled\n",
        "y = df.age\n",
        "\n",
        "x_train, x_test, y_train, y_test = train_test_split(X, y, test_size=0.2, random_state=42)"
      ],
      "execution_count": 18,
      "outputs": []
    },
    {
      "cell_type": "code",
      "metadata": {
        "colab": {
          "base_uri": "https://localhost:8080/"
        },
        "id": "cmhlD0O-XTG5",
        "outputId": "49933197-04a5-46e5-839d-0dee94e180e4"
      },
      "source": [
        "from lightgbm import LGBMRegressor\n",
        "from sklearn.metrics import mean_squared_error, mean_absolute_error, r2_score\n",
        "\n",
        "LGBM = LGBMRegressor(n_estimators=200).fit(x_train,y_train)\n",
        "pred = LGBM.predict(x_test)\n",
        "mse = mean_squared_error(y_test, pred)\n",
        "mae = mean_absolute_error(y_test, pred)\n",
        "r2 = r2_score(y_test, pred)\n",
        "print('MSE:  ', np.round(mse,3))\n",
        "print('MAE: ', np.round(mae,3))\n",
        "print('결정계수 R2: ', np.round(r2,3))"
      ],
      "execution_count": 19,
      "outputs": [
        {
          "output_type": "stream",
          "name": "stdout",
          "text": [
            "MSE:   185.387\n",
            "MAE:  10.338\n",
            "결정계수 R2:  0.509\n"
          ]
        }
      ]
    },
    {
      "cell_type": "code",
      "metadata": {
        "colab": {
          "base_uri": "https://localhost:8080/"
        },
        "id": "hMY2ORLWCT4c",
        "outputId": "5f1df312-c990-4fff-9f0d-15c2ff673171"
      },
      "source": [
        "from tensorflow.keras import models\n",
        "from tensorflow.keras import layers\n",
        "import tensorflow as tf\n",
        "\n",
        "\n",
        "model = models.Sequential()\n",
        "model.add(layers.Dense(128, activation='relu', input_shape=(6,)))\n",
        "model.add(layers.Dense(64, activation='relu'))\n",
        "model.add(layers.Dense(32, activation='relu'))\n",
        "model.add(layers.Dense(1))\n",
        "\n",
        "model.compile(optimizer='adam',\n",
        "              loss='mse',\n",
        "              metrics=['mae'])\n",
        "\n",
        "model.fit(x_train,\n",
        "          y_train,\n",
        "          epochs=10,\n",
        "          batch_size=32,\n",
        "          )\n",
        "\n",
        "results = model.evaluate(x_test, y_test)"
      ],
      "execution_count": 20,
      "outputs": [
        {
          "output_type": "stream",
          "name": "stdout",
          "text": [
            "Epoch 1/10\n",
            "1640/1640 [==============================] - 6s 4ms/step - loss: 351.2383 - mae: 14.7309\n",
            "Epoch 2/10\n",
            "1640/1640 [==============================] - 6s 4ms/step - loss: 231.1138 - mae: 12.1424\n",
            "Epoch 3/10\n",
            "1640/1640 [==============================] - 6s 4ms/step - loss: 211.2862 - mae: 11.4185\n",
            "Epoch 4/10\n",
            "1640/1640 [==============================] - 6s 4ms/step - loss: 206.0238 - mae: 11.2130\n",
            "Epoch 5/10\n",
            "1640/1640 [==============================] - 6s 4ms/step - loss: 203.6658 - mae: 11.1148\n",
            "Epoch 6/10\n",
            "1640/1640 [==============================] - 6s 4ms/step - loss: 200.8233 - mae: 11.0029\n",
            "Epoch 7/10\n",
            "1640/1640 [==============================] - 6s 4ms/step - loss: 199.5089 - mae: 10.9485\n",
            "Epoch 8/10\n",
            "1640/1640 [==============================] - 6s 4ms/step - loss: 197.9843 - mae: 10.8728\n",
            "Epoch 9/10\n",
            "1640/1640 [==============================] - 6s 4ms/step - loss: 197.4714 - mae: 10.8509\n",
            "Epoch 10/10\n",
            "1640/1640 [==============================] - 6s 4ms/step - loss: 196.4207 - mae: 10.8024\n",
            "410/410 [==============================] - 1s 3ms/step - loss: 198.0890 - mae: 10.7927\n"
          ]
        }
      ]
    },
    {
      "cell_type": "code",
      "metadata": {
        "id": "06FA5Wo2dbqq",
        "outputId": "28ad64bb-e512-4b38-a4fd-ed912111f2b3",
        "colab": {
          "base_uri": "https://localhost:8080/"
        }
      },
      "source": [
        "model.summary()"
      ],
      "execution_count": 21,
      "outputs": [
        {
          "output_type": "stream",
          "name": "stdout",
          "text": [
            "Model: \"sequential_1\"\n",
            "_________________________________________________________________\n",
            " Layer (type)                Output Shape              Param #   \n",
            "=================================================================\n",
            " dense_4 (Dense)             (None, 128)               896       \n",
            "                                                                 \n",
            " dense_5 (Dense)             (None, 64)                8256      \n",
            "                                                                 \n",
            " dense_6 (Dense)             (None, 32)                2080      \n",
            "                                                                 \n",
            " dense_7 (Dense)             (None, 1)                 33        \n",
            "                                                                 \n",
            "=================================================================\n",
            "Total params: 11,265\n",
            "Trainable params: 11,265\n",
            "Non-trainable params: 0\n",
            "_________________________________________________________________\n"
          ]
        }
      ]
    },
    {
      "cell_type": "code",
      "metadata": {
        "colab": {
          "base_uri": "https://localhost:8080/"
        },
        "id": "hZFXdBCeTmkA",
        "outputId": "c543bfe0-54b9-42ee-d58a-2944b3e96f04"
      },
      "source": [
        "results"
      ],
      "execution_count": 22,
      "outputs": [
        {
          "output_type": "execute_result",
          "data": {
            "text/plain": [
              "[198.08897399902344, 10.792736053466797]"
            ]
          },
          "metadata": {},
          "execution_count": 22
        }
      ]
    },
    {
      "cell_type": "code",
      "metadata": {
        "colab": {
          "base_uri": "https://localhost:8080/"
        },
        "id": "qsJZgAIbP-Kz",
        "outputId": "97c2ddda-213b-4ff0-d928-49db8ea94c59"
      },
      "source": [
        "y_test"
      ],
      "execution_count": 23,
      "outputs": [
        {
          "output_type": "execute_result",
          "data": {
            "text/plain": [
              "19851    40.0\n",
              "3787     57.0\n",
              "29774    24.0\n",
              "45880    20.0\n",
              "38451    64.0\n",
              "         ... \n",
              "43752    73.0\n",
              "58625    37.0\n",
              "8899     16.0\n",
              "55980    47.0\n",
              "17354    11.0\n",
              "Name: age, Length: 13118, dtype: float64"
            ]
          },
          "metadata": {},
          "execution_count": 23
        }
      ]
    },
    {
      "cell_type": "code",
      "metadata": {
        "colab": {
          "base_uri": "https://localhost:8080/"
        },
        "id": "pAtBZ8qOImi4",
        "outputId": "0d1be1a3-227e-4005-9dc3-fe82ac6e9a24"
      },
      "source": [
        "model.predict(x_test).reshape(-1)"
      ],
      "execution_count": 24,
      "outputs": [
        {
          "output_type": "execute_result",
          "data": {
            "text/plain": [
              "array([42.113163, 35.097687, 27.884367, ..., 32.400883, 41.32461 ,\n",
              "       56.743893], dtype=float32)"
            ]
          },
          "metadata": {},
          "execution_count": 24
        }
      ]
    },
    {
      "cell_type": "code",
      "metadata": {
        "colab": {
          "base_uri": "https://localhost:8080/"
        },
        "id": "4w9zWWObXjKe",
        "outputId": "72c4f9d0-a68d-41fb-aa91-16b1b178333a"
      },
      "source": [
        "# 모델 inference 부분\n",
        "params = [[180.6, 72.8, 118, 79, 92, 14.5]]\n",
        "params = scaler.transform(params)\n",
        "model.predict(params)"
      ],
      "execution_count": 25,
      "outputs": [
        {
          "output_type": "execute_result",
          "data": {
            "text/plain": [
              "array([[35.004467]], dtype=float32)"
            ]
          },
          "metadata": {},
          "execution_count": 25
        }
      ]
    },
    {
      "cell_type": "markdown",
      "metadata": {
        "id": "2WJl3hpRZ6vB"
      },
      "source": [
        "# 제안서와 비슷한 수준"
      ]
    },
    {
      "cell_type": "markdown",
      "metadata": {
        "id": "L-1jZ0nrZ3O2"
      },
      "source": [
        "![image.png](data:image/png;base64,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)"
      ]
    },
    {
      "cell_type": "code",
      "metadata": {
        "colab": {
          "base_uri": "https://localhost:8080/",
          "height": 417
        },
        "id": "qMGV0ZL7Wf7m",
        "outputId": "98675a59-e6aa-4cf1-d248-39a8e2f21be8"
      },
      "source": [
        "df_test = pd.DataFrame(data=y_test)\n",
        "df_test['pred_age'] = model.predict(x_test).reshape(-1)\n",
        "df_test"
      ],
      "execution_count": null,
      "outputs": [
        {
          "output_type": "execute_result",
          "data": {
            "text/html": [
              "<div>\n",
              "<style scoped>\n",
              "    .dataframe tbody tr th:only-of-type {\n",
              "        vertical-align: middle;\n",
              "    }\n",
              "\n",
              "    .dataframe tbody tr th {\n",
              "        vertical-align: top;\n",
              "    }\n",
              "\n",
              "    .dataframe thead th {\n",
              "        text-align: right;\n",
              "    }\n",
              "</style>\n",
              "<table border=\"1\" class=\"dataframe\">\n",
              "  <thead>\n",
              "    <tr style=\"text-align: right;\">\n",
              "      <th></th>\n",
              "      <th>age</th>\n",
              "      <th>pred_age</th>\n",
              "    </tr>\n",
              "  </thead>\n",
              "  <tbody>\n",
              "    <tr>\n",
              "      <th>19851</th>\n",
              "      <td>40.0</td>\n",
              "      <td>46.258163</td>\n",
              "    </tr>\n",
              "    <tr>\n",
              "      <th>3787</th>\n",
              "      <td>57.0</td>\n",
              "      <td>40.447441</td>\n",
              "    </tr>\n",
              "    <tr>\n",
              "      <th>29774</th>\n",
              "      <td>24.0</td>\n",
              "      <td>25.195845</td>\n",
              "    </tr>\n",
              "    <tr>\n",
              "      <th>45880</th>\n",
              "      <td>20.0</td>\n",
              "      <td>35.796192</td>\n",
              "    </tr>\n",
              "    <tr>\n",
              "      <th>38451</th>\n",
              "      <td>64.0</td>\n",
              "      <td>38.238758</td>\n",
              "    </tr>\n",
              "    <tr>\n",
              "      <th>...</th>\n",
              "      <td>...</td>\n",
              "      <td>...</td>\n",
              "    </tr>\n",
              "    <tr>\n",
              "      <th>43752</th>\n",
              "      <td>73.0</td>\n",
              "      <td>49.299782</td>\n",
              "    </tr>\n",
              "    <tr>\n",
              "      <th>58625</th>\n",
              "      <td>37.0</td>\n",
              "      <td>44.352314</td>\n",
              "    </tr>\n",
              "    <tr>\n",
              "      <th>8899</th>\n",
              "      <td>16.0</td>\n",
              "      <td>29.692650</td>\n",
              "    </tr>\n",
              "    <tr>\n",
              "      <th>55980</th>\n",
              "      <td>47.0</td>\n",
              "      <td>43.294182</td>\n",
              "    </tr>\n",
              "    <tr>\n",
              "      <th>17354</th>\n",
              "      <td>11.0</td>\n",
              "      <td>61.782883</td>\n",
              "    </tr>\n",
              "  </tbody>\n",
              "</table>\n",
              "<p>13118 rows × 2 columns</p>\n",
              "</div>"
            ],
            "text/plain": [
              "        age   pred_age\n",
              "19851  40.0  46.258163\n",
              "3787   57.0  40.447441\n",
              "29774  24.0  25.195845\n",
              "45880  20.0  35.796192\n",
              "38451  64.0  38.238758\n",
              "...     ...        ...\n",
              "43752  73.0  49.299782\n",
              "58625  37.0  44.352314\n",
              "8899   16.0  29.692650\n",
              "55980  47.0  43.294182\n",
              "17354  11.0  61.782883\n",
              "\n",
              "[13118 rows x 2 columns]"
            ]
          },
          "metadata": {},
          "execution_count": 25
        }
      ]
    },
    {
      "cell_type": "code",
      "metadata": {
        "colab": {
          "base_uri": "https://localhost:8080/"
        },
        "id": "XPtJ-5E2Wf5I",
        "outputId": "838ee4b1-8e77-499e-d770-156993d37e99"
      },
      "source": [
        "model.save('/content/drive/MyDrive/PHR/PHR.pb', save_format='tf')"
      ],
      "execution_count": null,
      "outputs": [
        {
          "output_type": "stream",
          "name": "stdout",
          "text": [
            "INFO:tensorflow:Assets written to: /content/drive/MyDrive/PHR/PHR.pb/assets\n"
          ]
        }
      ]
    }
  ]
}