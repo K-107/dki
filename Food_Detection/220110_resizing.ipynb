{
  "nbformat": 4,
  "nbformat_minor": 0,
  "metadata": {
    "colab": {
      "name": "resizing.ipynb",
      "provenance": [],
      "mount_file_id": "16F1W83Xlx00ZZjsYKTHOXPO4iejGG1aY",
      "authorship_tag": "ABX9TyO9vSWiGPtCHBhsi771/dD/",
      "include_colab_link": true
    },
    "kernelspec": {
      "name": "python3",
      "display_name": "Python 3"
    },
    "language_info": {
      "name": "python"
    }
  },
  "cells": [
    {
      "cell_type": "markdown",
      "metadata": {
        "id": "view-in-github",
        "colab_type": "text"
      },
      "source": [
        "<a href=\"https://colab.research.google.com/github/K-107/dki/blob/main/Food_Detection/220110_resizing.ipynb\" target=\"_parent\"><img src=\"https://colab.research.google.com/assets/colab-badge.svg\" alt=\"Open In Colab\"/></a>"
      ]
    },
    {
      "cell_type": "code",
      "source": [
        "from glob import glob\n",
        "from PIL import Image"
      ],
      "metadata": {
        "id": "HoSJo3n0eSxi"
      },
      "execution_count": 12,
      "outputs": []
    },
    {
      "cell_type": "code",
      "execution_count": 13,
      "metadata": {
        "id": "FwCXlRNpcrf5"
      },
      "outputs": [],
      "source": [
        "def image_chage(path):\n",
        "    \n",
        "    img_files = glob(path + '*.jpg')\n",
        "    print(img_files)\n",
        "    for img_file in img_files:\n",
        "        img = Image.open(img_file)\n",
        "        img_size = img.size\n",
        "        w = img_size[0]\n",
        "        h = img_size[1]\n",
        "        #print(img_size)\n",
        "        if w > 500 and h > 500:\n",
        "            #print(w, h)\n",
        "            img_re = img.resize((int(500), int(500)))\n",
        "            img_re_size = img_re.size\n",
        "            #print(img_re_size)\n",
        "            #print(img_file)\n",
        "            img_re = img_re.convert(\"RGB\")\n",
        "            img_re.save(img_file)\n",
        "        else:\n",
        "            pass\n",
        "    print('Image Resize 완료!')"
      ]
    },
    {
      "cell_type": "code",
      "source": [
        "path = '/content/drive/MyDrive/UnetTest/resize/'\n",
        "\n",
        "image_chage(path)"
      ],
      "metadata": {
        "colab": {
          "base_uri": "https://localhost:8080/"
        },
        "id": "nyNqNZSeeLrn",
        "outputId": "1ea09890-3521-407d-9d1a-fc6fe65ebd6b"
      },
      "execution_count": 14,
      "outputs": [
        {
          "output_type": "stream",
          "name": "stdout",
          "text": [
            "['/content/drive/MyDrive/UnetTest/resize/dki_GS25_뭘좋아할지몰라다넣어봤어도시락_76_900056_.jpg', '/content/drive/MyDrive/UnetTest/resize/dki_미니스톱_트리플까스햄볶음밥_100_900025_.jpg', '/content/drive/MyDrive/UnetTest/resize/dki_CU_옥수수비빔밥_69_900113_.jpg', '/content/drive/MyDrive/UnetTest/resize/dki_이마트24_광양식불고기도시락_18_900124_.jpg']\n",
            "Image Resize 완료!\n"
          ]
        }
      ]
    }
  ]
}