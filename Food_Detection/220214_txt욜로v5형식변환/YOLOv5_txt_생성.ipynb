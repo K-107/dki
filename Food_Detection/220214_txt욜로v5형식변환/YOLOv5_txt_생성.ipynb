{
 "cells": [
  {
   "cell_type": "code",
   "execution_count": 1,
   "metadata": {},
   "outputs": [],
   "source": [
    "import os"
   ]
  },
  {
   "cell_type": "code",
   "execution_count": 19,
   "metadata": {},
   "outputs": [],
   "source": [
    "def yolov5_txt_save(txt_name, single_or_multi, list_, case):\n",
    "    '''\n",
    "    input:\n",
    "    txt_name -        생성할 txt파일 이름 \n",
    "    single_or_multi - 레이블이 단일인지 멀티인지\n",
    "    list_ -           txt에 작성할 좌표가 들어있는 리스트\n",
    "    case -            1(norm_Center), 2(norm_TopLeft), 3(center), 4(topLeft)\n",
    "    \n",
    "    output:\n",
    "    txt_path -        생성된 txt를 저장할 경로\n",
    "    '''\n",
    "    \n",
    "    try:      \n",
    "        if case == '1': # norm이 됐고 좌표가 Center 기준일 경우\n",
    "            content,class_num, coord_ok = norm_Center(list_)\n",
    "        elif case == '2': # norm이 됐고 좌표가 TopLeft 기준일 경우\n",
    "            content,class_num, coord_ok = norm_TopLeft(list_)\n",
    "        elif case == '3': # norm이 안 됐고 좌표가 center 기준일 경우\n",
    "            content,class_num, coord_ok = center(list_)\n",
    "        elif case == '4': # norm이 안 됐고 좌표가 topLeft 기준일 경우\n",
    "            content,class_num, coord_ok = topLeft(list_)\n",
    "        \n",
    "        if coord_ok == 'Y': # 좌표들 중에 음수가 없는 정상이면 Y\n",
    "            # txt파일을 저장할 path 설정\n",
    "            path = '/Data/FoodDetection/data/food_detection/food_detection/yolov5_format'\n",
    "            if single_or_multi == 'single':\n",
    "                txt_path = os.path.join(path, single_or_multi, class_num, txt_name)\n",
    "            elif single_or_multi == 'multi':\n",
    "                txt_path = os.path.join(path, single_or_multi, txt_name)\n",
    "        \n",
    "            # txt 파일 작성\n",
    "            with open(txt_path, 'w', encoding='UTF-8') as f:\n",
    "                f.write(content)\n",
    "            \n",
    "            print('파일 생성 성공!')\n",
    "            return txt_path, coord_ok\n",
    "        \n",
    "        elif coord_ok == 'N': # 좌표들 중에 음수가 있어서 비정상이면 N\n",
    "            return coord_ok\n",
    "        \n",
    "    except:\n",
    "        message = '파일 생성 실패'\n",
    "        print(message)\n",
    "        return message"
   ]
  },
  {
   "cell_type": "code",
   "execution_count": 20,
   "metadata": {},
   "outputs": [],
   "source": [
    "'''case == '1', norm이 됐고 좌표가 Center 기준일 경우'''\n",
    "def norm_Center(list_):\n",
    "    \n",
    "    content = '' # txt에 적을 내용\n",
    "    coord_ok = 'Y' # 좌표들 중에 음수가 없는 정상이면 Y, 음수가 있어서 비정상이면 N\n",
    "    for coord in list_:\n",
    "        \n",
    "        if float(coord[3])<0 or float(coord[4])<0 or float(coord[5])<0 or float(coord[6])<0:\n",
    "            coord_ok = 'N'\n",
    "            return '', '', coord_ok\n",
    "        \n",
    "        class_num = coord[0]\n",
    "        x_center = float(coord[3])\n",
    "        y_center = float(coord[4])\n",
    "        w_bbox = float(coord[5])\n",
    "        h_bbox = float(coord[6])\n",
    "        \n",
    "        content += str(class_num) + ' '\n",
    "        content += str(round(x_center, 6)) + ' '\n",
    "        content += str(round(y_center, 6)) + ' '\n",
    "        content += str(round(w_bbox, 6)) + ' '\n",
    "        content += str(round(h_bbox, 6)) + '\\n'\n",
    "        \n",
    "    return content, class_num, coord_ok"
   ]
  },
  {
   "cell_type": "code",
   "execution_count": 21,
   "metadata": {},
   "outputs": [],
   "source": [
    "'''case == '2', norm이 됐고 좌표가 TopLeft 기준일 경우'''\n",
    "def norm_TopLeft(list_):\n",
    "    \n",
    "    content = '' # txt에 적을 내용\n",
    "    coord_ok = 'Y' # 좌표들 중에 음수가 없는 정상이면 Y, 음수가 있어서 비정상이면 N\n",
    "    for coord in list_:\n",
    "        \n",
    "        if float(coord[3])<0 or float(coord[4])<0 or float(coord[5])<0 or float(coord[6])<0:\n",
    "            coord_ok = 'N'\n",
    "            return '', '', coord_ok\n",
    "        \n",
    "        class_num = coord[0]\n",
    "        x_center = float(coord[3])+float(coord[5])/2\n",
    "        y_center = float(coord[4])+float(coord[6])/2\n",
    "        w_bbox = float(coord[5])\n",
    "        h_bbox = float(coord[6])\n",
    "            \n",
    "        content += str(class_num) + ' '\n",
    "        content += str(round(x_center, 6)) + ' '\n",
    "        content += str(round(y_center, 6)) + ' '\n",
    "        content += str(round(w_bbox, 6)) + ' '\n",
    "        content += str(round(h_bbox, 6)) + '\\n'\n",
    "        \n",
    "    return content, class_num, coord_ok"
   ]
  },
  {
   "cell_type": "code",
   "execution_count": 22,
   "metadata": {},
   "outputs": [],
   "source": [
    "'''case == '3', norm이 안 됐고 좌표가 center 기준일 경우'''\n",
    "def center(list_):\n",
    "        \n",
    "    content = '' # txt에 적을 내용\n",
    "    coord_ok = 'Y' # 좌표들 중에 음수가 없는 정상이면 Y, 음수가 있어서 비정상이면 N\n",
    "    for coord in list_:\n",
    "        \n",
    "        if float(coord[3])<0 or float(coord[4])<0 or float(coord[5])<0 or float(coord[6])<0:\n",
    "            coord_ok = 'N'\n",
    "            return '', '', coord_ok\n",
    "        \n",
    "        class_num = coord[0]\n",
    "        x_center = float(coord[3])/float(coord[1])\n",
    "        y_center = float(coord[4])/float(coord[2])\n",
    "        w_bbox = float(coord[5])/float(coord[1])\n",
    "        h_bbox = float(coord[6])/float(coord[2])\n",
    "            \n",
    "        content += str(class_num) + ' '\n",
    "        content += str(round(x_center, 6)) + ' '\n",
    "        content += str(round(y_center, 6)) + ' '\n",
    "        content += str(round(w_bbox, 6)) + ' '\n",
    "        content += str(round(h_bbox, 6)) + '\\n'\n",
    "        \n",
    "    return content, class_num, coord_ok"
   ]
  },
  {
   "cell_type": "code",
   "execution_count": 23,
   "metadata": {},
   "outputs": [],
   "source": [
    "'''case == '4', norm이 안 됐고 좌표가 topLeft 기준일 경우'''\n",
    "def topLeft(list_):\n",
    "    \n",
    "    content = '' # txt에 적을 내용\n",
    "    coord_ok = 'Y' # 좌표들 중에 음수가 없는 정상이면 Y, 음수가 있어서 비정상이면 N\n",
    "    for coord in list_:\n",
    "        \n",
    "        if float(coord[3])<0 or float(coord[4])<0 or float(coord[5])<0 or float(coord[6])<0:\n",
    "            coord_ok = 'N'\n",
    "            return '', '', coord_ok\n",
    "        \n",
    "        class_num = coord[0]\n",
    "        x_center = (float(coord[3]) + float(coord[5])/2)/float(coord[1])\n",
    "        y_center = (float(coord[4]) + float(coord[6])/2)/float(coord[2])\n",
    "        w_bbox = float(coord[5])/float(coord[1])\n",
    "        h_bbox = float(coord[6])/float(coord[2])\n",
    "            \n",
    "        content += str(class_num) + ' '\n",
    "        content += str(round(x_center, 6)) + ' '\n",
    "        content += str(round(y_center, 6)) + ' '\n",
    "        content += str(round(w_bbox, 6)) + ' '\n",
    "        content += str(round(h_bbox, 6)) + '\\n'\n",
    "        \n",
    "    return content, class_num, coord_ok"
   ]
  },
  {
   "cell_type": "code",
   "execution_count": 24,
   "metadata": {},
   "outputs": [
    {
     "data": {
      "text/plain": [
       "('263 0.214008 0.4975 0.365759 -0.225\\n', '263', 'N')"
      ]
     },
     "execution_count": 24,
     "metadata": {},
     "output_type": "execute_result"
    }
   ],
   "source": [
    "norm_Center([['263', '800', '800', '0.2140078', '0.4975000', '0.3657588', '-0.2250000']])"
   ]
  },
  {
   "cell_type": "code",
   "execution_count": null,
   "metadata": {},
   "outputs": [],
   "source": []
  }
 ],
 "metadata": {
  "kernelspec": {
   "display_name": "Python 3",
   "language": "python",
   "name": "python3"
  },
  "language_info": {
   "codemirror_mode": {
    "name": "ipython",
    "version": 3
   },
   "file_extension": ".py",
   "mimetype": "text/x-python",
   "name": "python",
   "nbconvert_exporter": "python",
   "pygments_lexer": "ipython3",
   "version": "3.6.9"
  }
 },
 "nbformat": 4,
 "nbformat_minor": 4
}
