{
 "cells": [
  {
   "cell_type": "code",
   "execution_count": 34,
   "metadata": {},
   "outputs": [
    {
     "name": "stdout",
     "output_type": "stream",
     "text": [
      "/data/FoodDetection/Object_Detection/dataset_backup__/gpu01_도시락/보여주기\r\n"
     ]
    }
   ],
   "source": [
    "!pwd"
   ]
  },
  {
   "cell_type": "code",
   "execution_count": 1,
   "metadata": {},
   "outputs": [],
   "source": [
    "import os"
   ]
  },
  {
   "cell_type": "code",
   "execution_count": null,
   "metadata": {},
   "outputs": [],
   "source": [
    "def yolov5_txt_save(txt_name, single_or_multi, list_, case):\n",
    "    \n",
    "    '''\n",
    "    input:\n",
    "    txt_name -        생성할 txt파일 이름 \n",
    "    single_or_multi - 레이블이 단일인지 멀티인지\n",
    "    list_ -           txt에 작성할 좌표가 들어있는 리스트\n",
    "    case -            1(norm_TopLeft), 2(norm_Center), 3(topLeft), 4(center)\n",
    "    output:\n",
    "    txt_path -        생성된 txt를 저장할 경로\n",
    "    '''\n",
    "    \n",
    "    try:      \n",
    "        if case == '1': # norm이 됐고 좌표가 TopLeft 기준일 경우\n",
    "            content,class_num, coord_ok = norm_TopLeft(list_)\n",
    "        elif case == '2': # norm이 됐고 좌표가 Center 기준일 경우\n",
    "            content,class_num, coord_ok = norm_Center(list_)\n",
    "        elif case == '3': # norm이 안 됐고 좌표가 topLeft 기준일 경우\n",
    "            content,class_num, coord_ok = topLeft(list_)\n",
    "        elif case == '4': # norm이 안 됐고 좌표가 center 기준일 경우\n",
    "            content,class_num, coord_ok = center(list_)\n",
    "        \n",
    "        if coord_ok == 'Y': # 좌표들 중에 음수가 없는 정상이면 Y\n",
    "            # txt파일을 저장할 path 설정\n",
    "            path = '/Data/FoodDetection/data/food_detection/food_detection/yolov5_format'\n",
    "            if single_or_multi == 'single':\n",
    "                # 20220223-L  class_num이 int이기 때문에 오류가 나서 str로 수정\n",
    "                #txt_path = os.path.join(path, single_or_multi, class_num, txt_name)\n",
    "                txt_path = os.path.join(path, single_or_multi, str(class_num))\n",
    "                create_output_path(txt_path) # 폴더 생성\n",
    "                txt_path = os.path.join(txt_path, txt_name)\n",
    "            elif single_or_multi == 'multi':\n",
    "                txt_path = os.path.join(path, single_or_multi, txt_name)\n",
    "        \n",
    "            # txt 파일 작성\n",
    "            with open(txt_path, 'w', encoding='UTF-8') as f:\n",
    "                f.write(content)\n",
    "            \n",
    "            print('파일 생성 성공!')\n",
    "            return txt_path, coord_ok\n",
    "        \n",
    "        elif coord_ok == 'N': # 좌표들 중에 음수가 있어서 비정상이면 N\n",
    "            return '', coord_ok\n",
    "        \n",
    "    except Exception as e:\n",
    "        #except:    \n",
    "        # 20220223-L 오류 코드가 직관적이지 않아서 수정\n",
    "        #print('예외가 발생했습니다.', e)\n",
    "        #message = '파일 생성 실패'\n",
    "        message = e\n",
    "        print(message)\n",
    "        return message, 'N'"
   ]
  },
  {
   "cell_type": "code",
   "execution_count": null,
   "metadata": {},
   "outputs": [],
   "source": [
    "# 폴더 생성\n",
    "def create_output_path(output_path):\n",
    "    if not os.path.isdir(output_path):\n",
    "        os.mkdir(output_path)"
   ]
  },
  {
   "cell_type": "code",
   "execution_count": 27,
   "metadata": {},
   "outputs": [],
   "source": [
    "'''case == '1', norm이 됐고 좌표가 TopLeft 기준일 경우'''\n",
    "def norm_TopLeft(list_):\n",
    "    \n",
    "    content = '' # txt에 적을 내용\n",
    "    coord_ok = 'Y' # 좌표들 중에 음수가 없는 정상이면 Y, 음수가 있어서 비정상이면 N\n",
    "    for coord in list_:\n",
    "        \n",
    "        if float(coord[3])<0 or float(coord[4])<0 or float(coord[5])<0 or float(coord[6])<0:\n",
    "            coord_ok = 'N'\n",
    "            return '', '', coord_ok\n",
    "        \n",
    "        class_num = coord[0]\n",
    "        x_center = float(coord[3])+float(coord[5])/2\n",
    "        y_center = float(coord[4])+float(coord[6])/2\n",
    "        w_bbox = float(coord[5])\n",
    "        h_bbox = float(coord[6])\n",
    "            \n",
    "        content += str(class_num) + ' '\n",
    "        content += str(round(x_center, 6)) + ' '\n",
    "        content += str(round(y_center, 6)) + ' '\n",
    "        content += str(round(w_bbox, 6)) + ' '\n",
    "        content += str(round(h_bbox, 6)) + '\\n'\n",
    "        \n",
    "    return content, class_num, coord_ok"
   ]
  },
  {
   "cell_type": "code",
   "execution_count": 26,
   "metadata": {},
   "outputs": [],
   "source": [
    "'''case == '2', norm이 됐고 좌표가 Center 기준일 경우'''\n",
    "def norm_Center(list_):\n",
    "    \n",
    "    content = '' # txt에 적을 내용\n",
    "    coord_ok = 'Y' # 좌표들 중에 음수가 없는 정상이면 Y, 음수가 있어서 비정상이면 N\n",
    "    for coord in list_:\n",
    "        \n",
    "        if float(coord[3])<0 or float(coord[4])<0 or float(coord[5])<0 or float(coord[6])<0:\n",
    "            coord_ok = 'N'\n",
    "            return '', '', coord_ok\n",
    "        \n",
    "        class_num = coord[0]\n",
    "        x_center = float(coord[3])\n",
    "        y_center = float(coord[4])\n",
    "        w_bbox = float(coord[5])\n",
    "        h_bbox = float(coord[6])\n",
    "        \n",
    "        content += str(class_num) + ' '\n",
    "        content += str(round(x_center, 6)) + ' '\n",
    "        content += str(round(y_center, 6)) + ' '\n",
    "        content += str(round(w_bbox, 6)) + ' '\n",
    "        content += str(round(h_bbox, 6)) + '\\n'\n",
    "        \n",
    "    return content, class_num, coord_ok"
   ]
  },
  {
   "cell_type": "code",
   "execution_count": 29,
   "metadata": {},
   "outputs": [],
   "source": [
    "'''case == '3', norm이 안 됐고 좌표가 topLeft 기준일 경우'''\n",
    "def topLeft(list_):\n",
    "    \n",
    "    content = '' # txt에 적을 내용\n",
    "    coord_ok = 'Y' # 좌표들 중에 음수가 없는 정상이면 Y, 음수가 있어서 비정상이면 N\n",
    "    for coord in list_:\n",
    "        \n",
    "        if float(coord[3])<0 or float(coord[4])<0 or float(coord[5])<0 or float(coord[6])<0:\n",
    "            coord_ok = 'N'\n",
    "            return '', '', coord_ok\n",
    "        \n",
    "        class_num = coord[0]\n",
    "        x_center = (float(coord[3]) + float(coord[5])/2)/float(coord[1])\n",
    "        y_center = (float(coord[4]) + float(coord[6])/2)/float(coord[2])\n",
    "        w_bbox = float(coord[5])/float(coord[1])\n",
    "        h_bbox = float(coord[6])/float(coord[2])\n",
    "            \n",
    "        content += str(class_num) + ' '\n",
    "        content += str(round(x_center, 6)) + ' '\n",
    "        content += str(round(y_center, 6)) + ' '\n",
    "        content += str(round(w_bbox, 6)) + ' '\n",
    "        content += str(round(h_bbox, 6)) + '\\n'\n",
    "        \n",
    "    return content, class_num, coord_ok"
   ]
  },
  {
   "cell_type": "code",
   "execution_count": 28,
   "metadata": {},
   "outputs": [],
   "source": [
    "'''case == '4', norm이 안 됐고 좌표가 center 기준일 경우'''\n",
    "def center(list_):\n",
    "        \n",
    "    content = '' # txt에 적을 내용\n",
    "    coord_ok = 'Y' # 좌표들 중에 음수가 없는 정상이면 Y, 음수가 있어서 비정상이면 N\n",
    "    for coord in list_:\n",
    "        \n",
    "        if float(coord[3])<0 or float(coord[4])<0 or float(coord[5])<0 or float(coord[6])<0:\n",
    "            coord_ok = 'N'\n",
    "            return '', '', coord_ok\n",
    "        \n",
    "        class_num = coord[0]\n",
    "        x_center = float(coord[3])/float(coord[1])\n",
    "        y_center = float(coord[4])/float(coord[2])\n",
    "        w_bbox = float(coord[5])/float(coord[1])\n",
    "        h_bbox = float(coord[6])/float(coord[2])\n",
    "            \n",
    "        content += str(class_num) + ' '\n",
    "        content += str(round(x_center, 6)) + ' '\n",
    "        content += str(round(y_center, 6)) + ' '\n",
    "        content += str(round(w_bbox, 6)) + ' '\n",
    "        content += str(round(h_bbox, 6)) + '\\n'\n",
    "        \n",
    "    return content, class_num, coord_ok"
   ]
  },
  {
   "cell_type": "code",
   "execution_count": 31,
   "metadata": {},
   "outputs": [
    {
     "data": {
      "text/plain": [
       "('263 0.214008 0.4975 0.365759 0.225\\n', '263', 'Y')"
      ]
     },
     "execution_count": 31,
     "metadata": {},
     "output_type": "execute_result"
    }
   ],
   "source": [
    "norm_Center([['263', '800', '800', '0.2140078', '0.4975000', '0.3657588', '0.2250000']])"
   ]
  },
  {
   "cell_type": "code",
   "execution_count": 32,
   "metadata": {},
   "outputs": [
    {
     "data": {
      "text/plain": [
       "('', '', 'N')"
      ]
     },
     "execution_count": 32,
     "metadata": {},
     "output_type": "execute_result"
    }
   ],
   "source": [
    "norm_Center([['263', '800', '800', '0.2140078', '0.4975000', '0.3657588', '-0.2250000']])"
   ]
  }
 ],
 "metadata": {
  "kernelspec": {
   "display_name": "Python 3",
   "language": "python",
   "name": "python3"
  },
  "language_info": {
   "codemirror_mode": {
    "name": "ipython",
    "version": 3
   },
   "file_extension": ".py",
   "mimetype": "text/x-python",
   "name": "python",
   "nbconvert_exporter": "python",
   "pygments_lexer": "ipython3",
   "version": "3.6.9"
  }
 },
 "nbformat": 4,
 "nbformat_minor": 4
}
