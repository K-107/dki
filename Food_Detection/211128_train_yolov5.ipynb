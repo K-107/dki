{
 "cells": [
  {
   "cell_type": "markdown",
   "metadata": {},
   "source": [
    "# YOLOv5 훈련"
   ]
  },
  {
   "cell_type": "code",
   "execution_count": 1,
   "metadata": {},
   "outputs": [
    {
     "name": "stdout",
     "output_type": "stream",
     "text": [
      "/data/FoodDetection/Object_Detection/yolov5-test/yolov5\r\n"
     ]
    }
   ],
   "source": [
    "!pwd"
   ]
  },
  {
   "cell_type": "code",
   "execution_count": 2,
   "metadata": {},
   "outputs": [],
   "source": [
    "import os\n",
    "import shutil\n",
    "from glob import glob\n",
    "\n",
    "#datapath = '/data/FoodDetection/Object_Detection/yolov5-test/dataset/RDProject7_folder/images/'\n",
    "datapath = '/data/Data_data/FoodDetection/data/food_detection/LunchBox/train_back/images/'\n",
    "\n",
    "data_list = glob(datapath + '*')\n",
    "#print(data_list)\n",
    "f = open('./gpu01_dataset/yolov5/train.txt', \"w\")\n",
    "for i in data_list:\n",
    "    f.write(''.join(i) + '\\n')"
   ]
  },
  {
   "cell_type": "code",
   "execution_count": 4,
   "metadata": {},
   "outputs": [],
   "source": [
    "datapath = '/data/Data_data/FoodDetection/data/food_detection/LunchBox/val_back/images/'\n",
    "\n",
    "data_list = glob(datapath + '*')\n",
    "#print(data_list)\n",
    "f = open('./gpu01_dataset/yolov5/val.txt', \"w\")\n",
    "for i in data_list:\n",
    "    f.write(''.join(i) + '\\n')"
   ]
  },
  {
   "cell_type": "markdown",
   "metadata": {},
   "source": [
    "# 터미널에서 실행해라\n",
    "\n",
    "python -m torch.distributed.launch --nproc_per_node 2 train-gpu01.py --img 640 --batch 16 --epochs 300 --data /data/FoodDetection/Object_Detection/yolov5-test/yolov5/gpu01_dataset/yolov5/dki1000_all.yaml --weights /data/FoodDetection/Object_Detection/yolov5-test/yolov5/yolov5x.pt --device 0,1"
   ]
  },
  {
   "cell_type": "code",
   "execution_count": null,
   "metadata": {},
   "outputs": [],
   "source": []
  },
  {
   "cell_type": "code",
   "execution_count": null,
   "metadata": {},
   "outputs": [],
   "source": []
  }
 ],
 "metadata": {
  "kernelspec": {
   "display_name": "Python 3",
   "language": "python",
   "name": "python3"
  },
  "language_info": {
   "codemirror_mode": {
    "name": "ipython",
    "version": 3
   },
   "file_extension": ".py",
   "mimetype": "text/x-python",
   "name": "python",
   "nbconvert_exporter": "python",
   "pygments_lexer": "ipython3",
   "version": "3.6.9"
  }
 },
 "nbformat": 4,
 "nbformat_minor": 4
}
