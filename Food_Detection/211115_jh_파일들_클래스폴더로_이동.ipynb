{
 "cells": [
  {
   "cell_type": "code",
   "execution_count": 2,
   "metadata": {},
   "outputs": [],
   "source": [
    "import os\n",
    "import shutil\n",
    "import glob\n",
    "import re"
   ]
  },
  {
   "cell_type": "code",
   "execution_count": 4,
   "metadata": {},
   "outputs": [
    {
     "name": "stdout",
     "output_type": "stream",
     "text": [
      "/data/Data_data/FoodDetection/data/food_detection/Original_Label\r\n"
     ]
    }
   ],
   "source": [
    "!pwd"
   ]
  },
  {
   "cell_type": "markdown",
   "metadata": {},
   "source": [
    "# 사고친거 복구"
   ]
  },
  {
   "cell_type": "code",
   "execution_count": 8,
   "metadata": {},
   "outputs": [],
   "source": [
    "# 원본 데이터 data로 옮기기\n",
    "\n",
    "path1 = '/data/Data_data/FoodDetection/data/food_detection/Original_Label/LunchBox/1차 데이터'\n",
    "path2 = '/data/Data_data/FoodDetection/data/food_detection/Original_Label/LunchBox/2차 데이터'\n",
    "move = '/data/Data_data/FoodDetection/data/food_detection/LunchBox/data'\n",
    "\n",
    "for i in os.listdir(path2):\n",
    "    shutil.copy(path2+'/'+i, move+'/'+i)"
   ]
  },
  {
   "cell_type": "code",
   "execution_count": 18,
   "metadata": {},
   "outputs": [],
   "source": [
    "# data로 옮긴 파일들 test 파일들과 같으면 data1으로 옮기기\n",
    "\n",
    "path = '/data/Data_data/FoodDetection/data/food_detection/LunchBox/data'\n",
    "test = '/data/Data_data/FoodDetection/data/inspection/도시락'\n",
    "move = '/data/Data_data/FoodDetection/data/food_detection/LunchBox/data1'\n",
    "\n",
    "for file in os.listdir(path):\n",
    "    for test_folder in os.listdir(test):\n",
    "        for test_file in os.listdir(test+'/'+test_folder):\n",
    "            if file == test_file:\n",
    "                shutil.copy(path+'/'+file, move+'/'+file)"
   ]
  },
  {
   "cell_type": "code",
   "execution_count": 11,
   "metadata": {},
   "outputs": [],
   "source": [
    "# data1에 있는 것은 data에서 삭제하기.\n",
    "path = '/data/Data_data/FoodDetection/data/food_detection/LunchBox/data'\n",
    "move = '/data/Data_data/FoodDetection/data/food_detection/LunchBox/data_test'\n",
    "\n",
    "for file in os.listdir(path):\n",
    "    for test in os.listdir(move):\n",
    "        if file == test:\n",
    "            os.remove(path+'/'+file)"
   ]
  },
  {
   "cell_type": "markdown",
   "metadata": {},
   "source": [
    "# 복구 완료!"
   ]
  },
  {
   "cell_type": "code",
   "execution_count": 31,
   "metadata": {},
   "outputs": [],
   "source": [
    "a = 'dki_CU_모두의급식 버섯불고기_344314_900141.jpg'"
   ]
  },
  {
   "cell_type": "code",
   "execution_count": 32,
   "metadata": {},
   "outputs": [
    {
     "data": {
      "text/plain": [
       "'344314'"
      ]
     },
     "execution_count": 32,
     "metadata": {},
     "output_type": "execute_result"
    }
   ],
   "source": [
    "p = re.compile(r'[_]\\d*[_]')\n",
    "m = p.search(a)\n",
    "m.group()[1:-1]"
   ]
  },
  {
   "cell_type": "code",
   "execution_count": 12,
   "metadata": {},
   "outputs": [
    {
     "data": {
      "text/plain": [
       "'/data/Data_data/FoodDetection/data/food_detection/Original_Label'"
      ]
     },
     "execution_count": 12,
     "metadata": {},
     "output_type": "execute_result"
    }
   ],
   "source": [
    "os.getcwd()"
   ]
  },
  {
   "cell_type": "code",
   "execution_count": 40,
   "metadata": {
    "scrolled": true
   },
   "outputs": [
    {
     "name": "stdout",
     "output_type": "stream",
     "text": [
      "완료!\n",
      "완료!\n"
     ]
    }
   ],
   "source": [
    "folders = ['1차 데이터', '2차 데이터']\n",
    "path = '/data/Data_data/FoodDetection/data/food_detection/LunchBox/data'\n",
    "\n",
    "\n",
    "for folder in folders:\n",
    "    files = os.listdir(folder)\n",
    "    for file in files:\n",
    "        p = re.compile(r'[_]\\d*[_]')\n",
    "        m = p.search(file)\n",
    "        num = m.group()[1:-1]\n",
    "        if not os.path.exists(num):\n",
    "            os.makedirs(num)\n",
    "        shutil.move(path+'/'+folder+'/'+file, path+'/'+num+'/'+file)\n",
    "    print(f'{folder} 완료!')"
   ]
  },
  {
   "cell_type": "markdown",
   "metadata": {},
   "source": [
    "17\tGS\t도시락\t함박&치킨도시락\tGS25_함박&치킨도시락\n",
    "84\tGS\t도시락\tGS25-함박&치킨도시락\tGS25_함박&치킨도시락\n",
    "\n",
    "\n",
    "22\t이마트 24\t\t소불고기 정찬 도시락\t이마트24_소불고기 정찬 도시락\n",
    "59\t이마트 24\t\t소불고기 정찬 도시락\t이마트24_소불고기 정찬 도시락\n",
    "\n",
    "\n",
    "25\t이마트 24\t\t일품한식반상도시락 시즌2\t이마트24_일품한식반상도시락 시즌2\n",
    "26\t이마트 24\t\t일품한식반상도시락시즌2\t이마트24_일품한식반상도시락시즌2"
   ]
  },
  {
   "cell_type": "code",
   "execution_count": null,
   "metadata": {},
   "outputs": [],
   "source": [
    "# /data/Data_data/FoodDetection/data/food_detection/LunchBox\n",
    "\n",
    "# /data/Data_data/FoodDetection/data/food_detection/Original_Label/LunchBox_class"
   ]
  },
  {
   "cell_type": "code",
   "execution_count": 8,
   "metadata": {},
   "outputs": [],
   "source": [
    "# class_ = '/data/Data_data/FoodDetection/data/food_detection/Original_Label'\n",
    "# original = '/data/Data_data/FoodDetection/data/food_detection/LunchBox'"
   ]
  },
  {
   "cell_type": "code",
   "execution_count": 9,
   "metadata": {},
   "outputs": [
    {
     "data": {
      "text/plain": [
       "'/data/Data_data/FoodDetection/data/food_detection/Original_Label/LunchBox'"
      ]
     },
     "execution_count": 9,
     "metadata": {},
     "output_type": "execute_result"
    }
   ],
   "source": [
    "# shutil.move(original, class_)"
   ]
  },
  {
   "cell_type": "markdown",
   "metadata": {},
   "source": [
    "저는 71-마지막까지 모든 클래스에 대해서 5%정도 테스트 데이터로 뽑아놓아서 '/Data/FoodDetection/data/inspection/도시락'에 이동"
   ]
  },
  {
   "cell_type": "code",
   "execution_count": null,
   "metadata": {},
   "outputs": [],
   "source": []
  },
  {
   "cell_type": "code",
   "execution_count": null,
   "metadata": {},
   "outputs": [],
   "source": []
  },
  {
   "cell_type": "code",
   "execution_count": null,
   "metadata": {},
   "outputs": [],
   "source": []
  },
  {
   "cell_type": "code",
   "execution_count": null,
   "metadata": {},
   "outputs": [],
   "source": []
  }
 ],
 "metadata": {
  "kernelspec": {
   "display_name": "Python 3",
   "language": "python",
   "name": "python3"
  },
  "language_info": {
   "codemirror_mode": {
    "name": "ipython",
    "version": 3
   },
   "file_extension": ".py",
   "mimetype": "text/x-python",
   "name": "python",
   "nbconvert_exporter": "python",
   "pygments_lexer": "ipython3",
   "version": "3.6.9"
  }
 },
 "nbformat": 4,
 "nbformat_minor": 4
}
