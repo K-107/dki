{
  "nbformat": 4,
  "nbformat_minor": 0,
  "metadata": {
    "colab": {
      "name": "빈폴더삭제.ipynb",
      "provenance": [],
      "mount_file_id": "1MDyk3wnZV8WAzBg00YBgwz4RO_5d_Rb1",
      "authorship_tag": "ABX9TyNdHR1bcY3kbicCqvsnv1Eq",
      "include_colab_link": true
    },
    "kernelspec": {
      "name": "python3",
      "display_name": "Python 3"
    },
    "language_info": {
      "name": "python"
    }
  },
  "cells": [
    {
      "cell_type": "markdown",
      "metadata": {
        "id": "view-in-github",
        "colab_type": "text"
      },
      "source": [
        "<a href=\"https://colab.research.google.com/github/K-107/dki/blob/main/210704/%EB%B9%88%ED%8F%B4%EB%8D%94%EC%82%AD%EC%A0%9C.ipynb\" target=\"_parent\"><img src=\"https://colab.research.google.com/assets/colab-badge.svg\" alt=\"Open In Colab\"/></a>"
      ]
    },
    {
      "cell_type": "code",
      "metadata": {
        "colab": {
          "base_uri": "https://localhost:8080/"
        },
        "id": "lpY21jEZers4",
        "outputId": "f0256631-71ed-481b-9403-4cee6d95b636"
      },
      "source": [
        "!pwd"
      ],
      "execution_count": 1,
      "outputs": [
        {
          "output_type": "stream",
          "text": [
            "/content\n"
          ],
          "name": "stdout"
        }
      ]
    },
    {
      "cell_type": "code",
      "metadata": {
        "id": "Mt2Z3cW6ZU3S"
      },
      "source": [
        "! rm -r /content/drive/MyDrive/음식인식/data\n",
        "! mkdir /content/drive/MyDrive/음식인식/data"
      ],
      "execution_count": 3,
      "outputs": []
    },
    {
      "cell_type": "code",
      "metadata": {
        "colab": {
          "base_uri": "https://localhost:8080/"
        },
        "id": "g49pVY27ayJS",
        "outputId": "c19e216a-9e5f-4c56-a491-f0530bdf51ac"
      },
      "source": [
        "% cd /content/drive/MyDrive/음식인식"
      ],
      "execution_count": 7,
      "outputs": [
        {
          "output_type": "stream",
          "text": [
            "/content/drive/MyDrive/음식인식\n"
          ],
          "name": "stdout"
        }
      ]
    },
    {
      "cell_type": "code",
      "metadata": {
        "id": "AQHnwCJ7Z0Xw"
      },
      "source": [
        "# cp [복사할 파일] [붙혀넣기할 경로 / 복사된 파일 이름]\n",
        "\n",
        "! cp packed_2_삭제.zip data/복사.zip"
      ],
      "execution_count": 8,
      "outputs": []
    },
    {
      "cell_type": "code",
      "metadata": {
        "colab": {
          "base_uri": "https://localhost:8080/"
        },
        "id": "qO3FfqNEbGRR",
        "outputId": "e9cadfe0-9ca3-4883-f626-253225c4db57"
      },
      "source": [
        "% cd /content/drive/MyDrive/음식인식/data"
      ],
      "execution_count": 9,
      "outputs": [
        {
          "output_type": "stream",
          "text": [
            "/content/drive/MyDrive/음식인식/data\n"
          ],
          "name": "stdout"
        }
      ]
    },
    {
      "cell_type": "code",
      "metadata": {
        "id": "21XfOZh4e-qO"
      },
      "source": [
        "!unzip 복사.zip"
      ],
      "execution_count": null,
      "outputs": []
    },
    {
      "cell_type": "code",
      "metadata": {
        "id": "CNSxHBSzgYqI"
      },
      "source": [
        "!rm 복사.zip"
      ],
      "execution_count": 11,
      "outputs": []
    },
    {
      "cell_type": "code",
      "metadata": {
        "colab": {
          "base_uri": "https://localhost:8080/",
          "height": 35
        },
        "id": "7TGGC5fRe-sx",
        "outputId": "5ed3523f-22dd-4a27-b1b4-bb8b52f6e2a1"
      },
      "source": [
        "import os\n",
        "\n",
        "os.chdir('/content/drive/MyDrive/음식인식/data')\n",
        "os.getcwd()"
      ],
      "execution_count": 12,
      "outputs": [
        {
          "output_type": "execute_result",
          "data": {
            "application/vnd.google.colaboratory.intrinsic+json": {
              "type": "string"
            },
            "text/plain": [
              "'/content/drive/MyDrive/음식인식/data'"
            ]
          },
          "metadata": {
            "tags": []
          },
          "execution_count": 12
        }
      ]
    },
    {
      "cell_type": "code",
      "metadata": {
        "colab": {
          "base_uri": "https://localhost:8080/"
        },
        "id": "nnZWJ1mNe-vK",
        "outputId": "ec3499b8-7f4c-473b-844c-e74234420cbb"
      },
      "source": [
        "path_dir = '/content/drive/MyDrive/음식인식/data'\n",
        " \n",
        "folders = os.listdir(path_dir)\n",
        "len(folders)"
      ],
      "execution_count": 13,
      "outputs": [
        {
          "output_type": "execute_result",
          "data": {
            "text/plain": [
              "810"
            ]
          },
          "metadata": {
            "tags": []
          },
          "execution_count": 13
        }
      ]
    },
    {
      "cell_type": "code",
      "metadata": {
        "id": "MbfnpK7cWAy_"
      },
      "source": [
        "folders"
      ],
      "execution_count": null,
      "outputs": []
    },
    {
      "cell_type": "code",
      "metadata": {
        "colab": {
          "base_uri": "https://localhost:8080/"
        },
        "id": "lgLilSCfe-xt",
        "outputId": "556acdc2-4c30-49b9-dab8-531c7521dd71"
      },
      "source": [
        "bin = []\n",
        "\n",
        "for folder in folders:\n",
        "  os.chdir(f'/content/drive/MyDrive/음식인식/data/{folder}')\n",
        "  names = os.listdir()\n",
        "  # print(names)\n",
        "  if len(names) != 0:\n",
        "    # print(folder)\n",
        "    bin.append(folder)\n",
        "  else:\n",
        "    os.chdir('/content/drive/MyDrive/음식인식/data')\n",
        "    os.rmdir(f'/content/drive/MyDrive/음식인식/data/{folder}') #디렉토리 삭제는 rmdir, 파일 삭제는 remove다!\n",
        "print(bin, len(bin))"
      ],
      "execution_count": 15,
      "outputs": [
        {
          "output_type": "stream",
          "text": [
            "['G097000034', 'G097000035', 'G097000045', 'G097000174', 'G097000181', 'G097000315', 'G097000422', 'G097000428', 'G097000504', 'G098000001', 'G098000013', 'G100000054', 'N191000016', 'N192000080', 'N203000031', 'N203000041', 'N242000008', 'N245000139', 'N245000171', 'N245000200', 'N245000250', 'N245000312', 'N245000314', 'N245000315', 'N245000317', 'N245000328', 'N245000338', 'N245000348', 'N245000358', 'N245000364', 'N245000404', 'N245000405', 'N245000411', 'N245000412'] 34\n"
          ],
          "name": "stdout"
        }
      ]
    },
    {
      "cell_type": "code",
      "metadata": {
        "colab": {
          "base_uri": "https://localhost:8080/"
        },
        "id": "iwtxdVeTcTdz",
        "outputId": "7f59db7b-c231-496d-93a9-f274c8559a3f"
      },
      "source": [
        "%cd /content/drive/MyDrive/음식인식"
      ],
      "execution_count": 25,
      "outputs": [
        {
          "output_type": "stream",
          "text": [
            "/content/drive/MyDrive/음식인식\n"
          ],
          "name": "stdout"
        }
      ]
    },
    {
      "cell_type": "code",
      "metadata": {
        "colab": {
          "base_uri": "https://localhost:8080/",
          "height": 419
        },
        "id": "pHz5ZklPe-0H",
        "outputId": "456c4d48-f107-4f2a-fd88-ae3b4b7dfa1b"
      },
      "source": [
        "import pandas as pd\n",
        "import numpy as np\n",
        "\n",
        "df = pd.read_excel('가공식품_이종희.xlsx')[['FOOD_CD', 'FOOD_NM', 'Unnamed: 2']].rename(columns={'Unnamed: 2':'contents'})\n",
        "df"
      ],
      "execution_count": 31,
      "outputs": [
        {
          "output_type": "execute_result",
          "data": {
            "text/html": [
              "<div>\n",
              "<style scoped>\n",
              "    .dataframe tbody tr th:only-of-type {\n",
              "        vertical-align: middle;\n",
              "    }\n",
              "\n",
              "    .dataframe tbody tr th {\n",
              "        vertical-align: top;\n",
              "    }\n",
              "\n",
              "    .dataframe thead th {\n",
              "        text-align: right;\n",
              "    }\n",
              "</style>\n",
              "<table border=\"1\" class=\"dataframe\">\n",
              "  <thead>\n",
              "    <tr style=\"text-align: right;\">\n",
              "      <th></th>\n",
              "      <th>FOOD_CD</th>\n",
              "      <th>FOOD_NM</th>\n",
              "      <th>contents</th>\n",
              "    </tr>\n",
              "  </thead>\n",
              "  <tbody>\n",
              "    <tr>\n",
              "      <th>0</th>\n",
              "      <td>G001000001</td>\n",
              "      <td>(CU) CU 메론우유</td>\n",
              "      <td>NaN</td>\n",
              "    </tr>\n",
              "    <tr>\n",
              "      <th>1</th>\n",
              "      <td>G001000002</td>\n",
              "      <td>(CU) CU 커피우유 (매일유업/비지에프리테일)</td>\n",
              "      <td>NaN</td>\n",
              "    </tr>\n",
              "    <tr>\n",
              "      <th>2</th>\n",
              "      <td>G001000008</td>\n",
              "      <td>(올가) 유기 딸기우유</td>\n",
              "      <td>NaN</td>\n",
              "    </tr>\n",
              "    <tr>\n",
              "      <th>3</th>\n",
              "      <td>G001000009</td>\n",
              "      <td>(올가) 유기 바나나우유</td>\n",
              "      <td>NaN</td>\n",
              "    </tr>\n",
              "    <tr>\n",
              "      <th>4</th>\n",
              "      <td>G001000011</td>\n",
              "      <td>(초록마을) 유기농 딸기우유</td>\n",
              "      <td>NaN</td>\n",
              "    </tr>\n",
              "    <tr>\n",
              "      <th>...</th>\n",
              "      <td>...</td>\n",
              "      <td>...</td>\n",
              "      <td>...</td>\n",
              "    </tr>\n",
              "    <tr>\n",
              "      <th>2819</th>\n",
              "      <td>N246001031</td>\n",
              "      <td>뉴트리라이트 화이버 비츠 플러스</td>\n",
              "      <td>NaN</td>\n",
              "    </tr>\n",
              "    <tr>\n",
              "      <th>2820</th>\n",
              "      <td>N246001043</td>\n",
              "      <td>[곰곰도시락] 흰강낭콩귀리밥&amp;amp;청양고추닭가슴살큐브</td>\n",
              "      <td>NaN</td>\n",
              "    </tr>\n",
              "    <tr>\n",
              "      <th>2821</th>\n",
              "      <td>N246001047</td>\n",
              "      <td>[곰곰도시락2] 씨앗귀리밥&amp;amp;숯불제육볶음</td>\n",
              "      <td>NaN</td>\n",
              "    </tr>\n",
              "    <tr>\n",
              "      <th>2822</th>\n",
              "      <td>N246001074</td>\n",
              "      <td>[왕혜문] 석류젤리 with 콜라겐스틱</td>\n",
              "      <td>NaN</td>\n",
              "    </tr>\n",
              "    <tr>\n",
              "      <th>2823</th>\n",
              "      <td>N246001079</td>\n",
              "      <td>[다신 현미밥상] 게맛살현미밥&amp;amp;메밀현미밥&amp;amp;두부닭가슴살스테이크</td>\n",
              "      <td>NaN</td>\n",
              "    </tr>\n",
              "  </tbody>\n",
              "</table>\n",
              "<p>2824 rows × 3 columns</p>\n",
              "</div>"
            ],
            "text/plain": [
              "         FOOD_CD                                    FOOD_NM contents\n",
              "0     G001000001                               (CU) CU 메론우유      NaN\n",
              "1     G001000002                (CU) CU 커피우유 (매일유업/비지에프리테일)      NaN\n",
              "2     G001000008                               (올가) 유기 딸기우유      NaN\n",
              "3     G001000009                              (올가) 유기 바나나우유      NaN\n",
              "4     G001000011                            (초록마을) 유기농 딸기우유      NaN\n",
              "...          ...                                        ...      ...\n",
              "2819  N246001031                          뉴트리라이트 화이버 비츠 플러스      NaN\n",
              "2820  N246001043             [곰곰도시락] 흰강낭콩귀리밥&amp;청양고추닭가슴살큐브      NaN\n",
              "2821  N246001047                  [곰곰도시락2] 씨앗귀리밥&amp;숯불제육볶음      NaN\n",
              "2822  N246001074                      [왕혜문] 석류젤리 with 콜라겐스틱      NaN\n",
              "2823  N246001079  [다신 현미밥상] 게맛살현미밥&amp;메밀현미밥&amp;두부닭가슴살스테이크      NaN\n",
              "\n",
              "[2824 rows x 3 columns]"
            ]
          },
          "metadata": {
            "tags": []
          },
          "execution_count": 31
        }
      ]
    },
    {
      "cell_type": "code",
      "metadata": {
        "colab": {
          "base_uri": "https://localhost:8080/",
          "height": 419
        },
        "id": "zPMHKfXudTms",
        "outputId": "2b13c744-7f62-41e2-e564-a1632981ddb0"
      },
      "source": [
        "df[df.contents.notnull()]"
      ],
      "execution_count": 33,
      "outputs": [
        {
          "output_type": "execute_result",
          "data": {
            "text/html": [
              "<div>\n",
              "<style scoped>\n",
              "    .dataframe tbody tr th:only-of-type {\n",
              "        vertical-align: middle;\n",
              "    }\n",
              "\n",
              "    .dataframe tbody tr th {\n",
              "        vertical-align: top;\n",
              "    }\n",
              "\n",
              "    .dataframe thead th {\n",
              "        text-align: right;\n",
              "    }\n",
              "</style>\n",
              "<table border=\"1\" class=\"dataframe\">\n",
              "  <thead>\n",
              "    <tr style=\"text-align: right;\">\n",
              "      <th></th>\n",
              "      <th>FOOD_CD</th>\n",
              "      <th>FOOD_NM</th>\n",
              "      <th>contents</th>\n",
              "    </tr>\n",
              "  </thead>\n",
              "  <tbody>\n",
              "    <tr>\n",
              "      <th>889</th>\n",
              "      <td>G097000034</td>\n",
              "      <td>그린앤블랙 유기농 다크초콜릿</td>\n",
              "      <td>maya cold가 섞임</td>\n",
              "    </tr>\n",
              "    <tr>\n",
              "      <th>890</th>\n",
              "      <td>G097000035</td>\n",
              "      <td>그린앤블랙 유기농 밀크초콜릿</td>\n",
              "      <td>sea salt 임</td>\n",
              "    </tr>\n",
              "    <tr>\n",
              "      <th>891</th>\n",
              "      <td>G097000045</td>\n",
              "      <td>길리안 라투르플리나</td>\n",
              "      <td>레스익스클루시브 섞임</td>\n",
              "    </tr>\n",
              "    <tr>\n",
              "      <th>917</th>\n",
              "      <td>G097000169</td>\n",
              "      <td>로아커 가데나 초콜릿</td>\n",
              "      <td>G097000181랑 G097000169 겹침</td>\n",
              "    </tr>\n",
              "    <tr>\n",
              "      <th>922</th>\n",
              "      <td>G097000174</td>\n",
              "      <td>로아커 초콜릿 다크노아</td>\n",
              "      <td>크림카카오 섞임</td>\n",
              "    </tr>\n",
              "    <tr>\n",
              "      <th>...</th>\n",
              "      <td>...</td>\n",
              "      <td>...</td>\n",
              "      <td>...</td>\n",
              "    </tr>\n",
              "    <tr>\n",
              "      <th>1894</th>\n",
              "      <td>N245000383</td>\n",
              "      <td>말랑밀누들떡볶이(1-2인분,용기형) 풀무원</td>\n",
              "      <td>말랑말랑</td>\n",
              "    </tr>\n",
              "    <tr>\n",
              "      <th>1914</th>\n",
              "      <td>N245000404</td>\n",
              "      <td>블랙김샌드 현미 1개 (20g) 풀무원</td>\n",
              "      <td>알수가 없는 게 잇음</td>\n",
              "    </tr>\n",
              "    <tr>\n",
              "      <th>1915</th>\n",
              "      <td>N245000405</td>\n",
              "      <td>[ORGA] 순수한 유기농 브로콜리스낵 35g 풀무원</td>\n",
              "      <td>28g이 섞임</td>\n",
              "    </tr>\n",
              "    <tr>\n",
              "      <th>1920</th>\n",
              "      <td>N245000411</td>\n",
              "      <td>[ORGA]현미튀밥 강정 75g 풀무원</td>\n",
              "      <td>105g이다</td>\n",
              "    </tr>\n",
              "    <tr>\n",
              "      <th>1921</th>\n",
              "      <td>N245000412</td>\n",
              "      <td>[ORGA]보리튀밥 강정 85g 풀무원</td>\n",
              "      <td>120g이다</td>\n",
              "    </tr>\n",
              "  </tbody>\n",
              "</table>\n",
              "<p>61 rows × 3 columns</p>\n",
              "</div>"
            ],
            "text/plain": [
              "         FOOD_CD                        FOOD_NM                   contents\n",
              "889   G097000034                그린앤블랙 유기농 다크초콜릿              maya cold가 섞임\n",
              "890   G097000035                그린앤블랙 유기농 밀크초콜릿                 sea salt 임\n",
              "891   G097000045                     길리안 라투르플리나                레스익스클루시브 섞임\n",
              "917   G097000169                    로아커 가데나 초콜릿  G097000181랑 G097000169 겹침\n",
              "922   G097000174                   로아커 초콜릿 다크노아                   크림카카오 섞임\n",
              "...          ...                            ...                        ...\n",
              "1894  N245000383        말랑밀누들떡볶이(1-2인분,용기형) 풀무원                       말랑말랑\n",
              "1914  N245000404          블랙김샌드 현미 1개 (20g) 풀무원                알수가 없는 게 잇음\n",
              "1915  N245000405  [ORGA] 순수한 유기농 브로콜리스낵 35g 풀무원                    28g이 섞임\n",
              "1920  N245000411          [ORGA]현미튀밥 강정 75g 풀무원                     105g이다\n",
              "1921  N245000412          [ORGA]보리튀밥 강정 85g 풀무원                     120g이다\n",
              "\n",
              "[61 rows x 3 columns]"
            ]
          },
          "metadata": {
            "tags": []
          },
          "execution_count": 33
        }
      ]
    },
    {
      "cell_type": "code",
      "metadata": {
        "id": "NZsT76tEdTpK"
      },
      "source": [
        ""
      ],
      "execution_count": null,
      "outputs": []
    },
    {
      "cell_type": "code",
      "metadata": {
        "id": "HC8KLVJ3dTrP"
      },
      "source": [
        ""
      ],
      "execution_count": null,
      "outputs": []
    },
    {
      "cell_type": "code",
      "metadata": {
        "id": "4v_DkpoldTtj"
      },
      "source": [
        ""
      ],
      "execution_count": null,
      "outputs": []
    },
    {
      "cell_type": "code",
      "metadata": {
        "id": "y28-3SKMdTw5"
      },
      "source": [
        ""
      ],
      "execution_count": null,
      "outputs": []
    },
    {
      "cell_type": "code",
      "metadata": {
        "id": "lxvJeqS6dT1S"
      },
      "source": [
        ""
      ],
      "execution_count": null,
      "outputs": []
    }
  ]
}