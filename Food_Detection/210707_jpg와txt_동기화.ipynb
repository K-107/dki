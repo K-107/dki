{
 "cells": [
  {
   "cell_type": "code",
   "execution_count": 1,
   "metadata": {},
   "outputs": [
    {
     "name": "stdout",
     "output_type": "stream",
     "text": [
      "/Data/FoodDetection/TEST\r\n"
     ]
    }
   ],
   "source": [
    "# 현재 작업 경로\n",
    "\n",
    "!pwd"
   ]
  },
  {
   "cell_type": "code",
   "execution_count": 2,
   "metadata": {},
   "outputs": [
    {
     "data": {
      "text/plain": [
       "'/Data/FoodDetection/TEST/data'"
      ]
     },
     "execution_count": 2,
     "metadata": {},
     "output_type": "execute_result"
    }
   ],
   "source": [
    "import os\n",
    "\n",
    "os.chdir('./data')\n",
    "os.getcwd()"
   ]
  },
  {
   "cell_type": "code",
   "execution_count": 3,
   "metadata": {},
   "outputs": [
    {
     "data": {
      "text/plain": [
       "['스파게티_멀티',\n",
       " '스파게티_클리어',\n",
       " '쌀국수',\n",
       " '쌀국수 볶음면',\n",
       " '애매',\n",
       " '얼큰쌀국수',\n",
       " '열무국수_클리어',\n",
       " '오분류',\n",
       " '오일소스스파게티',\n",
       " '우동_클리어',\n",
       " '잔치국수_클리어',\n",
       " '쫄면_클리어',\n",
       " '칼국수_클리어',\n",
       " '콩국수_클리어',\n",
       " '크림소스스파게티',\n",
       " '토마토소스스파게티']"
      ]
     },
     "execution_count": 3,
     "metadata": {},
     "output_type": "execute_result"
    }
   ],
   "source": [
    "# 폴더 속의 폴더들 목록\n",
    "\n",
    "folders = os.listdir(os.getcwd())\n",
    "folders"
   ]
  },
  {
   "cell_type": "code",
   "execution_count": 4,
   "metadata": {},
   "outputs": [],
   "source": [
    "'''\n",
    "1. 모든 폴더를 돌면서 우선 jpg 파일을 순서대로 잡는다.\n",
    "2. 잡힌 jpg의 경로를 des에 저장한다.\n",
    "3. jpg를 txt로 맨 마지막 3글자만 바꾼다.\n",
    "4. 다시 모든 폴더를 돌면서 jpg에서 바뀐 txt와 일치하는 원래 txt를 찾는다.\n",
    "5. 원래 txt가 있는 곳을 찾으면 그 경로를 scr로 저장한다.\n",
    "6. 원래 txt를 scr에서 des로 이동시킨다.\n",
    "'''\n",
    "\n",
    "import re\n",
    "jpg_patturn = re.compile(r'.+(?=.jpg)')\n",
    "\n",
    "for folder in folders:\n",
    "    os.chdir(f'/Data/FoodDetection/TEST/data/{folder}')\n",
    "    des = os.getcwd()\n",
    "#     print(des)\n",
    "    files = os.listdir()\n",
    "    for file_ in files:\n",
    "        if file_[-3:] == 'jpg':\n",
    "#             print(file_)\n",
    "            m = jpg_patturn.findall(f'{file_}')\n",
    "#             print(m)\n",
    "#             if len(m) != 0:\n",
    "            search = m[0] + '.txt'\n",
    "#             print(search)\n",
    "            for folder_ in folders:\n",
    "                os.chdir(f'/Data/FoodDetection/TEST/data/{folder_}')\n",
    "#                 print(os.listdir())\n",
    "                if search in os.listdir():\n",
    "                    src = os.getcwd()\n",
    "#                     print(src, des)\n",
    "                    os.rename(src + '/' + search, des + '/' + search)"
   ]
  },
  {
   "cell_type": "code",
   "execution_count": 11,
   "metadata": {},
   "outputs": [
    {
     "data": {
      "text/plain": [
       "'jpg'"
      ]
     },
     "execution_count": 11,
     "metadata": {},
     "output_type": "execute_result"
    }
   ],
   "source": [
    "a = '161808.jpg'\n",
    "a[-3:]"
   ]
  },
  {
   "cell_type": "code",
   "execution_count": 24,
   "metadata": {},
   "outputs": [
    {
     "name": "stdout",
     "output_type": "stream",
     "text": [
      "/Data/FoodDetection/TEST/data\n"
     ]
    }
   ],
   "source": [
    "# cd .."
   ]
  },
  {
   "cell_type": "code",
   "execution_count": 26,
   "metadata": {},
   "outputs": [],
   "source": [
    "os.rename('/Data/FoodDetection/TEST/data/dump.txt', '/Data/FoodDetection/TEST/dump.txt')"
   ]
  },
  {
   "cell_type": "code",
   "execution_count": null,
   "metadata": {},
   "outputs": [],
   "source": []
  },
  {
   "cell_type": "code",
   "execution_count": null,
   "metadata": {},
   "outputs": [],
   "source": []
  }
 ],
 "metadata": {
  "kernelspec": {
   "display_name": "Python 3",
   "language": "python",
   "name": "python3"
  },
  "language_info": {
   "codemirror_mode": {
    "name": "ipython",
    "version": 3
   },
   "file_extension": ".py",
   "mimetype": "text/x-python",
   "name": "python",
   "nbconvert_exporter": "python",
   "pygments_lexer": "ipython3",
   "version": "3.6.9"
  }
 },
 "nbformat": 4,
 "nbformat_minor": 4
}
